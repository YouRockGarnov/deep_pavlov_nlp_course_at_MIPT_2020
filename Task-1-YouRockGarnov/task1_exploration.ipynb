{
  "nbformat": 4,
  "nbformat_minor": 0,
  "metadata": {
    "anaconda-cloud": {},
    "kernelspec": {
      "name": "python3",
      "language": "python",
      "display_name": "Python 3"
    },
    "language_info": {
      "codemirror_mode": {
        "name": "ipython",
        "version": 3
      },
      "file_extension": ".py",
      "mimetype": "text/x-python",
      "name": "python",
      "nbconvert_exporter": "python",
      "pygments_lexer": "ipython3",
      "version": "3.6.10"
    },
    "colab": {
      "name": "task1_exploration.ipynb",
      "provenance": [],
      "collapsed_sections": [
        "iDo4HpyvZyBo",
        "QGASFf4JZyBp",
        "H6f3z1ENZyBu",
        "8c4ro6gyZyBy",
        "6zjPW8s0ZyB6",
        "vjzYv6LiZyCA",
        "US9txZ0lZyCF",
        "RWO0TceHZyCJ",
        "N9rlZL28ZyCL"
      ]
    },
    "accelerator": "GPU"
  },
  "cells": [
    {
      "cell_type": "markdown",
      "metadata": {
        "id": "uYHCotHMZyAT",
        "colab_type": "text",
        "pycharm": {}
      },
      "source": [
        "Credit to CS224n"
      ]
    },
    {
      "cell_type": "markdown",
      "metadata": {
        "id": "Oyi3gpcEZyAV",
        "colab_type": "text",
        "pycharm": {}
      },
      "source": [
        "# Assignment 1.1: Exploring Word Vectors (25 Points)"
      ]
    },
    {
      "cell_type": "code",
      "metadata": {
        "id": "AWvkp-kfZyAX",
        "colab_type": "code",
        "outputId": "499c8a27-7cd9-4a35-94a2-87c19cdd9e14",
        "colab": {
          "base_uri": "https://localhost:8080/",
          "height": 33
        },
        "pycharm": {}
      },
      "source": [
        "# All Import Statements Defined Here\n",
        "# Note: Do not add to this list.\n",
        "# All the dependencies you need, can be installed by running .\n",
        "# ----------------\n",
        "\n",
        "import sys\n",
        "assert sys.version_info[0]\u003d\u003d3\n",
        "assert sys.version_info[1] \u003e\u003d 5\n",
        "\n",
        "from gensim.models import KeyedVectors\n",
        "from gensim.test.utils import datapath\n",
        "import pprint\n",
        "import matplotlib.pyplot as plt\n",
        "plt.rcParams[\u0027figure.figsize\u0027] \u003d [10, 5]\n",
        "import nltk\n",
        "nltk.download(\u0027reuters\u0027)\n",
        "from nltk.corpus import reuters\n",
        "import numpy as np\n",
        "import random\n",
        "import scipy as sp\n",
        "from sklearn.decomposition import TruncatedSVD\n",
        "from sklearn.decomposition import PCA\n",
        "\n",
        "START_TOKEN \u003d \u0027\u003cSTART\u003e\u0027\n",
        "END_TOKEN \u003d \u0027\u003cEND\u003e\u0027\n",
        "\n",
        "np.random.seed(0)\n",
        "random.seed(0)\n",
        "# ----------------"
      ],
      "execution_count": 10,
      "outputs": [
        {
          "output_type": "stream",
          "text": [
            "[nltk_data] Downloading package reuters to /root/nltk_data...\n"
          ],
          "name": "stdout"
        }
      ]
    },
    {
      "cell_type": "markdown",
      "metadata": {
        "id": "IVZTakLTZyAb",
        "colab_type": "text",
        "pycharm": {}
      },
      "source": [
        "## Word Vectors\n",
        "\n",
        "Word Vectors are often used as a fundamental component for downstream NLP tasks, e.g. question answering, text generation, translation, etc., so it is important to build some intuitions as to their strengths and weaknesses. Here, you will explore two types of word vectors: those derived from *co-occurrence matrices*, and those derived via *word2vec*. \n",
        "\n",
        "**Note on Terminology:** The terms \"word vectors\" and \"word embeddings\" are often used interchangeably. The term \"embedding\" refers to the fact that we are encoding aspects of a word\u0027s meaning in a lower dimensional space. As [Wikipedia](https://en.wikipedia.org/wiki/Word_embedding) states, \"*conceptually it involves a mathematical embedding from a space with one dimension per word to a continuous vector space with a much lower dimension*\"."
      ]
    },
    {
      "cell_type": "markdown",
      "metadata": {
        "id": "ns7EDx9wZyAc",
        "colab_type": "text",
        "pycharm": {}
      },
      "source": [
        "## Part 1: Count-Based Word Vectors (10 points)\n",
        "\n",
        "Most word vector models start from the following idea:\n",
        "\n",
        "*You shall know a word by the company it keeps ([Firth, J. R. 1957:11](https://en.wikipedia.org/wiki/John_Rupert_Firth))*\n",
        "\n",
        "Many word vector implementations are driven by the idea that similar words, i.e., (near) synonyms, will be used in similar contexts. As a result, similar words will often be spoken or written along with a shared subset of words, i.e., contexts. By examining these contexts, we can try to develop embeddings for our words. With this intuition in mind, many \"old school\" approaches to constructing word vectors relied on word counts. Here we elaborate upon one of those strategies, *co-occurrence matrices* (for more information, see [here](http://web.stanford.edu/class/cs124/lec/vectorsemantics.video.pdf) or [here](https://medium.com/data-science-group-iitr/word-embedding-2d05d270b285))."
      ]
    },
    {
      "cell_type": "markdown",
      "metadata": {
        "id": "C1DNHBynZyAe",
        "colab_type": "text",
        "pycharm": {}
      },
      "source": [
        "### Co-Occurrence\n",
        "\n",
        "A co-occurrence matrix counts how often things co-occur in some environment. Given some word $w_i$ occurring in the document, we consider the *context window* surrounding $w_i$. Supposing our fixed window size is $n$, then this is the $n$ preceding and $n$ subsequent words in that document, i.e. words $w_{i-n} \\dots w_{i-1}$ and $w_{i+1} \\dots w_{i+n}$. We build a *co-occurrence matrix* $M$, which is a symmetric word-by-word matrix in which $M_{ij}$ is the number of times $w_j$ appears inside $w_i$\u0027s window.\n",
        "\n",
        "**Example: Co-Occurrence with Fixed Window of n\u003d1**:\n",
        "\n",
        "Document 1: \"all that glitters is not gold\"\n",
        "\n",
        "Document 2: \"all is well that ends well\"\n",
        "\n",
        "\n",
        "|     *    | START | all | that | glitters | is   | not  | gold  | well | ends | END |\n",
        "|----------|-------|-----|------|----------|------|------|-------|------|------|-----|\n",
        "| START    | 0     | 2   | 0    | 0        | 0    | 0    | 0     | 0    | 0    | 0   |\n",
        "| all      | 2     | 0   | 1    | 0        | 1    | 0    | 0     | 0    | 0    | 0   |\n",
        "| that     | 0     | 1   | 0    | 1        | 0    | 0    | 0     | 1    | 1    | 0   |\n",
        "| glitters | 0     | 0   | 1    | 0        | 1    | 0    | 0     | 0    | 0    | 0   |\n",
        "| is       | 0     | 1   | 0    | 1        | 0    | 1    | 0     | 1    | 0    | 0   |\n",
        "| not      | 0     | 0   | 0    | 0        | 1    | 0    | 1     | 0    | 0    | 0   |\n",
        "| gold     | 0     | 0   | 0    | 0        | 0    | 1    | 0     | 0    | 0    | 1   |\n",
        "| well     | 0     | 0   | 1    | 0        | 1    | 0    | 0     | 0    | 1    | 1   |\n",
        "| ends     | 0     | 0   | 1    | 0        | 0    | 0    | 0     | 1    | 0    | 0   |\n",
        "| END      | 0     | 0   | 0    | 0        | 0    | 0    | 1     | 1    | 0    | 0   |\n",
        "\n",
        "**Note:** In NLP, we often add START and END tokens to represent the beginning and end of sentences, paragraphs or documents. In thise case we imagine START and END tokens encapsulating each document, e.g., \"START All that glitters is not gold END\", and include these tokens in our co-occurrence counts.\n",
        "\n",
        "The rows (or columns) of this matrix provide one type of word vectors (those based on word-word co-occurrence), but the vectors will be large in general (linear in the number of distinct words in a corpus). Thus, our next step is to run *dimensionality reduction*. In particular, we will run *SVD (Singular Value Decomposition)*, which is a kind of generalized *PCA (Principal Components Analysis)* to select the top $k$ principal components. Here\u0027s a visualization of dimensionality reduction with SVD. In this picture our co-occurrence matrix is $A$ with $n$ rows corresponding to $n$ words. We obtain a full matrix decomposition, with the singular values ordered in the diagonal $S$ matrix, and our new, shorter length-$k$ word vectors in $U_k$.\n",
        "\n",
        "![Picture of an SVD](imgs/svd.png \"SVD\")\n",
        "\n",
        "This reduced-dimensionality co-occurrence representation preserves semantic relationships between words, e.g. *doctor* and *hospital* will be closer than *doctor* and *dog*. \n",
        "\n",
        "**Notes:** If you can barely remember what an eigenvalue is, here\u0027s [a slow, friendly introduction to SVD](https://davetang.org/file/Singular_Value_Decomposition_Tutorial.pdf). If you want to learn more thoroughly about PCA or SVD, feel free to check out lectures [7](https://web.stanford.edu/class/cs168/l/l7.pdf), [8](http://theory.stanford.edu/~tim/s15/l/l8.pdf), and [9](https://web.stanford.edu/class/cs168/l/l9.pdf) of CS168. These course notes provide a great high-level treatment of these general purpose algorithms. Though, for the purpose of this class, you only need to know how to extract the k-dimensional embeddings by utilizing pre-programmed implementations of these algorithms from the numpy, scipy, or sklearn python packages. In practice, it is challenging to apply full SVD to large corpora because of the memory needed to perform PCA or SVD. However, if you only want the top $k$ vector components for relatively small $k$ — known as *[Truncated SVD](https://en.wikipedia.org/wiki/Singular_value_decomposition#Truncated_SVD)* — then there are reasonably scalable techniques to compute those iteratively."
      ]
    },
    {
      "cell_type": "markdown",
      "metadata": {
        "id": "v2MlevLQZyAf",
        "colab_type": "text",
        "pycharm": {}
      },
      "source": [
        "### Plotting Co-Occurrence Word Embeddings\n",
        "\n",
        "Here, we will be using the Reuters (business and financial news) corpus. If you haven\u0027t run the import cell at the top of this page, please run it now (click it and press SHIFT-RETURN). The corpus consists of 10,788 news documents totaling 1.3 million words. These documents span 90 categories and are split into train and test. For more details, please see https://www.nltk.org/book/ch02.html. We provide a `read_corpus` function below that pulls out only articles from the \"crude\" (i.e. news articles about oil, gas, etc.) category. The function also adds START and END tokens to each of the documents, and lowercases words. You do **not** have perform any other kind of pre-processing."
      ]
    },
    {
      "cell_type": "code",
      "metadata": {
        "id": "BXwkyibeZyAg",
        "colab_type": "code",
        "colab": {},
        "pycharm": {}
      },
      "source": [
        "def read_corpus(category\u003d\"crude\"):\n",
        "    \"\"\" Read files from the specified Reuter\u0027s category.\n",
        "        Params:\n",
        "            category (string): category name\n",
        "        Return:\n",
        "            list of lists, with words from each of the processed files\n",
        "    \"\"\"\n",
        "    files \u003d reuters.fileids(category)\n",
        "    return [[START_TOKEN] + [w.lower() for w in list(reuters.words(f))] + [END_TOKEN] for f in files]\n"
      ],
      "execution_count": 0,
      "outputs": []
    },
    {
      "cell_type": "markdown",
      "metadata": {
        "id": "YF-D12peZyAj",
        "colab_type": "text",
        "pycharm": {}
      },
      "source": [
        "Let\u0027s have a look what these documents are like…."
      ]
    },
    {
      "cell_type": "code",
      "metadata": {
        "scrolled": false,
        "id": "4ZtAJ-H0ZyAk",
        "colab_type": "code",
        "outputId": "cb8cda37-877e-455e-f294-dc01ab5cbe15",
        "colab": {
          "base_uri": "https://localhost:8080/",
          "height": 1000
        },
        "pycharm": {}
      },
      "source": [
        "reuters_corpus \u003d read_corpus()\n",
        "pprint.pprint(reuters_corpus[:3], compact\u003dTrue, width\u003d100)"
      ],
      "execution_count": 0,
      "outputs": [
        {
          "output_type": "stream",
          "text": [
            "[[\u0027\u003cSTART\u003e\u0027, \u0027japan\u0027, \u0027to\u0027, \u0027revise\u0027, \u0027long\u0027, \u0027-\u0027, \u0027term\u0027, \u0027energy\u0027, \u0027demand\u0027, \u0027downwards\u0027, \u0027the\u0027,\n",
            "  \u0027ministry\u0027, \u0027of\u0027, \u0027international\u0027, \u0027trade\u0027, \u0027and\u0027, \u0027industry\u0027, \u0027(\u0027, \u0027miti\u0027, \u0027)\u0027, \u0027will\u0027, \u0027revise\u0027,\n",
            "  \u0027its\u0027, \u0027long\u0027, \u0027-\u0027, \u0027term\u0027, \u0027energy\u0027, \u0027supply\u0027, \u0027/\u0027, \u0027demand\u0027, \u0027outlook\u0027, \u0027by\u0027, \u0027august\u0027, \u0027to\u0027,\n",
            "  \u0027meet\u0027, \u0027a\u0027, \u0027forecast\u0027, \u0027downtrend\u0027, \u0027in\u0027, \u0027japanese\u0027, \u0027energy\u0027, \u0027demand\u0027, \u0027,\u0027, \u0027ministry\u0027,\n",
            "  \u0027officials\u0027, \u0027said\u0027, \u0027.\u0027, \u0027miti\u0027, \u0027is\u0027, \u0027expected\u0027, \u0027to\u0027, \u0027lower\u0027, \u0027the\u0027, \u0027projection\u0027, \u0027for\u0027,\n",
            "  \u0027primary\u0027, \u0027energy\u0027, \u0027supplies\u0027, \u0027in\u0027, \u0027the\u0027, \u0027year\u0027, \u00272000\u0027, \u0027to\u0027, \u0027550\u0027, \u0027mln\u0027, \u0027kilolitres\u0027,\n",
            "  \u0027(\u0027, \u0027kl\u0027, \u0027)\u0027, \u0027from\u0027, \u0027600\u0027, \u0027mln\u0027, \u0027,\u0027, \u0027they\u0027, \u0027said\u0027, \u0027.\u0027, \u0027the\u0027, \u0027decision\u0027, \u0027follows\u0027,\n",
            "  \u0027the\u0027, \u0027emergence\u0027, \u0027of\u0027, \u0027structural\u0027, \u0027changes\u0027, \u0027in\u0027, \u0027japanese\u0027, \u0027industry\u0027, \u0027following\u0027,\n",
            "  \u0027the\u0027, \u0027rise\u0027, \u0027in\u0027, \u0027the\u0027, \u0027value\u0027, \u0027of\u0027, \u0027the\u0027, \u0027yen\u0027, \u0027and\u0027, \u0027a\u0027, \u0027decline\u0027, \u0027in\u0027, \u0027domestic\u0027,\n",
            "  \u0027electric\u0027, \u0027power\u0027, \u0027demand\u0027, \u0027.\u0027, \u0027miti\u0027, \u0027is\u0027, \u0027planning\u0027, \u0027to\u0027, \u0027work\u0027, \u0027out\u0027, \u0027a\u0027, \u0027revised\u0027,\n",
            "  \u0027energy\u0027, \u0027supply\u0027, \u0027/\u0027, \u0027demand\u0027, \u0027outlook\u0027, \u0027through\u0027, \u0027deliberations\u0027, \u0027of\u0027, \u0027committee\u0027,\n",
            "  \u0027meetings\u0027, \u0027of\u0027, \u0027the\u0027, \u0027agency\u0027, \u0027of\u0027, \u0027natural\u0027, \u0027resources\u0027, \u0027and\u0027, \u0027energy\u0027, \u0027,\u0027, \u0027the\u0027,\n",
            "  \u0027officials\u0027, \u0027said\u0027, \u0027.\u0027, \u0027they\u0027, \u0027said\u0027, \u0027miti\u0027, \u0027will\u0027, \u0027also\u0027, \u0027review\u0027, \u0027the\u0027, \u0027breakdown\u0027,\n",
            "  \u0027of\u0027, \u0027energy\u0027, \u0027supply\u0027, \u0027sources\u0027, \u0027,\u0027, \u0027including\u0027, \u0027oil\u0027, \u0027,\u0027, \u0027nuclear\u0027, \u0027,\u0027, \u0027coal\u0027, \u0027and\u0027,\n",
            "  \u0027natural\u0027, \u0027gas\u0027, \u0027.\u0027, \u0027nuclear\u0027, \u0027energy\u0027, \u0027provided\u0027, \u0027the\u0027, \u0027bulk\u0027, \u0027of\u0027, \u0027japan\u0027, \"\u0027\", \u0027s\u0027,\n",
            "  \u0027electric\u0027, \u0027power\u0027, \u0027in\u0027, \u0027the\u0027, \u0027fiscal\u0027, \u0027year\u0027, \u0027ended\u0027, \u0027march\u0027, \u002731\u0027, \u0027,\u0027, \u0027supplying\u0027,\n",
            "  \u0027an\u0027, \u0027estimated\u0027, \u002727\u0027, \u0027pct\u0027, \u0027on\u0027, \u0027a\u0027, \u0027kilowatt\u0027, \u0027/\u0027, \u0027hour\u0027, \u0027basis\u0027, \u0027,\u0027, \u0027followed\u0027,\n",
            "  \u0027by\u0027, \u0027oil\u0027, \u0027(\u0027, \u002723\u0027, \u0027pct\u0027, \u0027)\u0027, \u0027and\u0027, \u0027liquefied\u0027, \u0027natural\u0027, \u0027gas\u0027, \u0027(\u0027, \u002721\u0027, \u0027pct\u0027, \u0027),\u0027,\n",
            "  \u0027they\u0027, \u0027noted\u0027, \u0027.\u0027, \u0027\u003cEND\u003e\u0027],\n",
            " [\u0027\u003cSTART\u003e\u0027, \u0027energy\u0027, \u0027/\u0027, \u0027u\u0027, \u0027.\u0027, \u0027s\u0027, \u0027.\u0027, \u0027petrochemical\u0027, \u0027industry\u0027, \u0027cheap\u0027, \u0027oil\u0027,\n",
            "  \u0027feedstocks\u0027, \u0027,\u0027, \u0027the\u0027, \u0027weakened\u0027, \u0027u\u0027, \u0027.\u0027, \u0027s\u0027, \u0027.\u0027, \u0027dollar\u0027, \u0027and\u0027, \u0027a\u0027, \u0027plant\u0027,\n",
            "  \u0027utilization\u0027, \u0027rate\u0027, \u0027approaching\u0027, \u002790\u0027, \u0027pct\u0027, \u0027will\u0027, \u0027propel\u0027, \u0027the\u0027, \u0027streamlined\u0027, \u0027u\u0027,\n",
            "  \u0027.\u0027, \u0027s\u0027, \u0027.\u0027, \u0027petrochemical\u0027, \u0027industry\u0027, \u0027to\u0027, \u0027record\u0027, \u0027profits\u0027, \u0027this\u0027, \u0027year\u0027, \u0027,\u0027,\n",
            "  \u0027with\u0027, \u0027growth\u0027, \u0027expected\u0027, \u0027through\u0027, \u0027at\u0027, \u0027least\u0027, \u00271990\u0027, \u0027,\u0027, \u0027major\u0027, \u0027company\u0027,\n",
            "  \u0027executives\u0027, \u0027predicted\u0027, \u0027.\u0027, \u0027this\u0027, \u0027bullish\u0027, \u0027outlook\u0027, \u0027for\u0027, \u0027chemical\u0027, \u0027manufacturing\u0027,\n",
            "  \u0027and\u0027, \u0027an\u0027, \u0027industrywide\u0027, \u0027move\u0027, \u0027to\u0027, \u0027shed\u0027, \u0027unrelated\u0027, \u0027businesses\u0027, \u0027has\u0027, \u0027prompted\u0027,\n",
            "  \u0027gaf\u0027, \u0027corp\u0027, \u0027\u0026\u0027, \u0027lt\u0027, \u0027;\u0027, \u0027gaf\u0027, \u0027\u003e,\u0027, \u0027privately\u0027, \u0027-\u0027, \u0027held\u0027, \u0027cain\u0027, \u0027chemical\u0027, \u0027inc\u0027,\n",
            "  \u0027,\u0027, \u0027and\u0027, \u0027other\u0027, \u0027firms\u0027, \u0027to\u0027, \u0027aggressively\u0027, \u0027seek\u0027, \u0027acquisitions\u0027, \u0027of\u0027, \u0027petrochemical\u0027,\n",
            "  \u0027plants\u0027, \u0027.\u0027, \u0027oil\u0027, \u0027companies\u0027, \u0027such\u0027, \u0027as\u0027, \u0027ashland\u0027, \u0027oil\u0027, \u0027inc\u0027, \u0027\u0026\u0027, \u0027lt\u0027, \u0027;\u0027, \u0027ash\u0027,\n",
            "  \u0027\u003e,\u0027, \u0027the\u0027, \u0027kentucky\u0027, \u0027-\u0027, \u0027based\u0027, \u0027oil\u0027, \u0027refiner\u0027, \u0027and\u0027, \u0027marketer\u0027, \u0027,\u0027, \u0027are\u0027, \u0027also\u0027,\n",
            "  \u0027shopping\u0027, \u0027for\u0027, \u0027money\u0027, \u0027-\u0027, \u0027making\u0027, \u0027petrochemical\u0027, \u0027businesses\u0027, \u0027to\u0027, \u0027buy\u0027, \u0027.\u0027, \u0027\"\u0027,\n",
            "  \u0027i\u0027, \u0027see\u0027, \u0027us\u0027, \u0027poised\u0027, \u0027at\u0027, \u0027the\u0027, \u0027threshold\u0027, \u0027of\u0027, \u0027a\u0027, \u0027golden\u0027, \u0027period\u0027, \u0027,\"\u0027, \u0027said\u0027,\n",
            "  \u0027paul\u0027, \u0027oreffice\u0027, \u0027,\u0027, \u0027chairman\u0027, \u0027of\u0027, \u0027giant\u0027, \u0027dow\u0027, \u0027chemical\u0027, \u0027co\u0027, \u0027\u0026\u0027, \u0027lt\u0027, \u0027;\u0027,\n",
            "  \u0027dow\u0027, \u0027\u003e,\u0027, \u0027adding\u0027, \u0027,\u0027, \u0027\"\u0027, \u0027there\u0027, \"\u0027\", \u0027s\u0027, \u0027no\u0027, \u0027major\u0027, \u0027plant\u0027, \u0027capacity\u0027, \u0027being\u0027,\n",
            "  \u0027added\u0027, \u0027around\u0027, \u0027the\u0027, \u0027world\u0027, \u0027now\u0027, \u0027.\u0027, \u0027the\u0027, \u0027whole\u0027, \u0027game\u0027, \u0027is\u0027, \u0027bringing\u0027, \u0027out\u0027,\n",
            "  \u0027new\u0027, \u0027products\u0027, \u0027and\u0027, \u0027improving\u0027, \u0027the\u0027, \u0027old\u0027, \u0027ones\u0027, \u0027.\"\u0027, \u0027analysts\u0027, \u0027say\u0027, \u0027the\u0027,\n",
            "  \u0027chemical\u0027, \u0027industry\u0027, \"\u0027\", \u0027s\u0027, \u0027biggest\u0027, \u0027customers\u0027, \u0027,\u0027, \u0027automobile\u0027, \u0027manufacturers\u0027,\n",
            "  \u0027and\u0027, \u0027home\u0027, \u0027builders\u0027, \u0027that\u0027, \u0027use\u0027, \u0027a\u0027, \u0027lot\u0027, \u0027of\u0027, \u0027paints\u0027, \u0027and\u0027, \u0027plastics\u0027, \u0027,\u0027,\n",
            "  \u0027are\u0027, \u0027expected\u0027, \u0027to\u0027, \u0027buy\u0027, \u0027quantities\u0027, \u0027this\u0027, \u0027year\u0027, \u0027.\u0027, \u0027u\u0027, \u0027.\u0027, \u0027s\u0027, \u0027.\u0027,\n",
            "  \u0027petrochemical\u0027, \u0027plants\u0027, \u0027are\u0027, \u0027currently\u0027, \u0027operating\u0027, \u0027at\u0027, \u0027about\u0027, \u002790\u0027, \u0027pct\u0027,\n",
            "  \u0027capacity\u0027, \u0027,\u0027, \u0027reflecting\u0027, \u0027tighter\u0027, \u0027supply\u0027, \u0027that\u0027, \u0027could\u0027, \u0027hike\u0027, \u0027product\u0027, \u0027prices\u0027,\n",
            "  \u0027by\u0027, \u002730\u0027, \u0027to\u0027, \u002740\u0027, \u0027pct\u0027, \u0027this\u0027, \u0027year\u0027, \u0027,\u0027, \u0027said\u0027, \u0027john\u0027, \u0027dosher\u0027, \u0027,\u0027, \u0027managing\u0027,\n",
            "  \u0027director\u0027, \u0027of\u0027, \u0027pace\u0027, \u0027consultants\u0027, \u0027inc\u0027, \u0027of\u0027, \u0027houston\u0027, \u0027.\u0027, \u0027demand\u0027, \u0027for\u0027, \u0027some\u0027,\n",
            "  \u0027products\u0027, \u0027such\u0027, \u0027as\u0027, \u0027styrene\u0027, \u0027could\u0027, \u0027push\u0027, \u0027profit\u0027, \u0027margins\u0027, \u0027up\u0027, \u0027by\u0027, \u0027as\u0027,\n",
            "  \u0027much\u0027, \u0027as\u0027, \u0027300\u0027, \u0027pct\u0027, \u0027,\u0027, \u0027he\u0027, \u0027said\u0027, \u0027.\u0027, \u0027oreffice\u0027, \u0027,\u0027, \u0027speaking\u0027, \u0027at\u0027, \u0027a\u0027,\n",
            "  \u0027meeting\u0027, \u0027of\u0027, \u0027chemical\u0027, \u0027engineers\u0027, \u0027in\u0027, \u0027houston\u0027, \u0027,\u0027, \u0027said\u0027, \u0027dow\u0027, \u0027would\u0027, \u0027easily\u0027,\n",
            "  \u0027top\u0027, \u0027the\u0027, \u0027741\u0027, \u0027mln\u0027, \u0027dlrs\u0027, \u0027it\u0027, \u0027earned\u0027, \u0027last\u0027, \u0027year\u0027, \u0027and\u0027, \u0027predicted\u0027, \u0027it\u0027,\n",
            "  \u0027would\u0027, \u0027have\u0027, \u0027the\u0027, \u0027best\u0027, \u0027year\u0027, \u0027in\u0027, \u0027its\u0027, \u0027history\u0027, \u0027.\u0027, \u0027in\u0027, \u00271985\u0027, \u0027,\u0027, \u0027when\u0027,\n",
            "  \u0027oil\u0027, \u0027prices\u0027, \u0027were\u0027, \u0027still\u0027, \u0027above\u0027, \u002725\u0027, \u0027dlrs\u0027, \u0027a\u0027, \u0027barrel\u0027, \u0027and\u0027, \u0027chemical\u0027,\n",
            "  \u0027exports\u0027, \u0027were\u0027, \u0027adversely\u0027, \u0027affected\u0027, \u0027by\u0027, \u0027the\u0027, \u0027strong\u0027, \u0027u\u0027, \u0027.\u0027, \u0027s\u0027, \u0027.\u0027, \u0027dollar\u0027,\n",
            "  \u0027,\u0027, \u0027dow\u0027, \u0027had\u0027, \u0027profits\u0027, \u0027of\u0027, \u002758\u0027, \u0027mln\u0027, \u0027dlrs\u0027, \u0027.\u0027, \u0027\"\u0027, \u0027i\u0027, \u0027believe\u0027, \u0027the\u0027,\n",
            "  \u0027entire\u0027, \u0027chemical\u0027, \u0027industry\u0027, \u0027is\u0027, \u0027headed\u0027, \u0027for\u0027, \u0027a\u0027, \u0027record\u0027, \u0027year\u0027, \u0027or\u0027, \u0027close\u0027,\n",
            "  \u0027to\u0027, \u0027it\u0027, \u0027,\"\u0027, \u0027oreffice\u0027, \u0027said\u0027, \u0027.\u0027, \u0027gaf\u0027, \u0027chairman\u0027, \u0027samuel\u0027, \u0027heyman\u0027, \u0027estimated\u0027,\n",
            "  \u0027that\u0027, \u0027the\u0027, \u0027u\u0027, \u0027.\u0027, \u0027s\u0027, \u0027.\u0027, \u0027chemical\u0027, \u0027industry\u0027, \u0027would\u0027, \u0027report\u0027, \u0027a\u0027, \u002720\u0027, \u0027pct\u0027,\n",
            "  \u0027gain\u0027, \u0027in\u0027, \u0027profits\u0027, \u0027during\u0027, \u00271987\u0027, \u0027.\u0027, \u0027last\u0027, \u0027year\u0027, \u0027,\u0027, \u0027the\u0027, \u0027domestic\u0027,\n",
            "  \u0027industry\u0027, \u0027earned\u0027, \u0027a\u0027, \u0027total\u0027, \u0027of\u0027, \u002713\u0027, \u0027billion\u0027, \u0027dlrs\u0027, \u0027,\u0027, \u0027a\u0027, \u002754\u0027, \u0027pct\u0027, \u0027leap\u0027,\n",
            "  \u0027from\u0027, \u00271985\u0027, \u0027.\u0027, \u0027the\u0027, \u0027turn\u0027, \u0027in\u0027, \u0027the\u0027, \u0027fortunes\u0027, \u0027of\u0027, \u0027the\u0027, \u0027once\u0027, \u0027-\u0027, \u0027sickly\u0027,\n",
            "  \u0027chemical\u0027, \u0027industry\u0027, \u0027has\u0027, \u0027been\u0027, \u0027brought\u0027, \u0027about\u0027, \u0027by\u0027, \u0027a\u0027, \u0027combination\u0027, \u0027of\u0027, \u0027luck\u0027,\n",
            "  \u0027and\u0027, \u0027planning\u0027, \u0027,\u0027, \u0027said\u0027, \u0027pace\u0027, \"\u0027\", \u0027s\u0027, \u0027john\u0027, \u0027dosher\u0027, \u0027.\u0027, \u0027dosher\u0027, \u0027said\u0027, \u0027last\u0027,\n",
            "  \u0027year\u0027, \"\u0027\", \u0027s\u0027, \u0027fall\u0027, \u0027in\u0027, \u0027oil\u0027, \u0027prices\u0027, \u0027made\u0027, \u0027feedstocks\u0027, \u0027dramatically\u0027, \u0027cheaper\u0027,\n",
            "  \u0027and\u0027, \u0027at\u0027, \u0027the\u0027, \u0027same\u0027, \u0027time\u0027, \u0027the\u0027, \u0027american\u0027, \u0027dollar\u0027, \u0027was\u0027, \u0027weakening\u0027, \u0027against\u0027,\n",
            "  \u0027foreign\u0027, \u0027currencies\u0027, \u0027.\u0027, \u0027that\u0027, \u0027helped\u0027, \u0027boost\u0027, \u0027u\u0027, \u0027.\u0027, \u0027s\u0027, \u0027.\u0027, \u0027chemical\u0027,\n",
            "  \u0027exports\u0027, \u0027.\u0027, \u0027also\u0027, \u0027helping\u0027, \u0027to\u0027, \u0027bring\u0027, \u0027supply\u0027, \u0027and\u0027, \u0027demand\u0027, \u0027into\u0027, \u0027balance\u0027,\n",
            "  \u0027has\u0027, \u0027been\u0027, \u0027the\u0027, \u0027gradual\u0027, \u0027market\u0027, \u0027absorption\u0027, \u0027of\u0027, \u0027the\u0027, \u0027extra\u0027, \u0027chemical\u0027,\n",
            "  \u0027manufacturing\u0027, \u0027capacity\u0027, \u0027created\u0027, \u0027by\u0027, \u0027middle\u0027, \u0027eastern\u0027, \u0027oil\u0027, \u0027producers\u0027, \u0027in\u0027,\n",
            "  \u0027the\u0027, \u0027early\u0027, \u00271980s\u0027, \u0027.\u0027, \u0027finally\u0027, \u0027,\u0027, \u0027virtually\u0027, \u0027all\u0027, \u0027major\u0027, \u0027u\u0027, \u0027.\u0027, \u0027s\u0027, \u0027.\u0027,\n",
            "  \u0027chemical\u0027, \u0027manufacturers\u0027, \u0027have\u0027, \u0027embarked\u0027, \u0027on\u0027, \u0027an\u0027, \u0027extensive\u0027, \u0027corporate\u0027,\n",
            "  \u0027restructuring\u0027, \u0027program\u0027, \u0027to\u0027, \u0027mothball\u0027, \u0027inefficient\u0027, \u0027plants\u0027, \u0027,\u0027, \u0027trim\u0027, \u0027the\u0027,\n",
            "  \u0027payroll\u0027, \u0027and\u0027, \u0027eliminate\u0027, \u0027unrelated\u0027, \u0027businesses\u0027, \u0027.\u0027, \u0027the\u0027, \u0027restructuring\u0027, \u0027touched\u0027,\n",
            "  \u0027off\u0027, \u0027a\u0027, \u0027flurry\u0027, \u0027of\u0027, \u0027friendly\u0027, \u0027and\u0027, \u0027hostile\u0027, \u0027takeover\u0027, \u0027attempts\u0027, \u0027.\u0027, \u0027gaf\u0027, \u0027,\u0027,\n",
            "  \u0027which\u0027, \u0027made\u0027, \u0027an\u0027, \u0027unsuccessful\u0027, \u0027attempt\u0027, \u0027in\u0027, \u00271985\u0027, \u0027to\u0027, \u0027acquire\u0027, \u0027union\u0027,\n",
            "  \u0027carbide\u0027, \u0027corp\u0027, \u0027\u0026\u0027, \u0027lt\u0027, \u0027;\u0027, \u0027uk\u0027, \u0027\u003e,\u0027, \u0027recently\u0027, \u0027offered\u0027, \u0027three\u0027, \u0027billion\u0027, \u0027dlrs\u0027,\n",
            "  \u0027for\u0027, \u0027borg\u0027, \u0027warner\u0027, \u0027corp\u0027, \u0027\u0026\u0027, \u0027lt\u0027, \u0027;\u0027, \u0027bor\u0027, \u0027\u003e,\u0027, \u0027a\u0027, \u0027chicago\u0027, \u0027manufacturer\u0027,\n",
            "  \u0027of\u0027, \u0027plastics\u0027, \u0027and\u0027, \u0027chemicals\u0027, \u0027.\u0027, \u0027another\u0027, \u0027industry\u0027, \u0027powerhouse\u0027, \u0027,\u0027, \u0027w\u0027, \u0027.\u0027,\n",
            "  \u0027r\u0027, \u0027.\u0027, \u0027grace\u0027, \u0027\u0026\u0027, \u0027lt\u0027, \u0027;\u0027, \u0027gra\u0027, \u0027\u003e\u0027, \u0027has\u0027, \u0027divested\u0027, \u0027its\u0027, \u0027retailing\u0027, \u0027,\u0027,\n",
            "  \u0027restaurant\u0027, \u0027and\u0027, \u0027fertilizer\u0027, \u0027businesses\u0027, \u0027to\u0027, \u0027raise\u0027, \u0027cash\u0027, \u0027for\u0027, \u0027chemical\u0027,\n",
            "  \u0027acquisitions\u0027, \u0027.\u0027, \u0027but\u0027, \u0027some\u0027, \u0027experts\u0027, \u0027worry\u0027, \u0027that\u0027, \u0027the\u0027, \u0027chemical\u0027, \u0027industry\u0027,\n",
            "  \u0027may\u0027, \u0027be\u0027, \u0027headed\u0027, \u0027for\u0027, \u0027trouble\u0027, \u0027if\u0027, \u0027companies\u0027, \u0027continue\u0027, \u0027turning\u0027, \u0027their\u0027,\n",
            "  \u0027back\u0027, \u0027on\u0027, \u0027the\u0027, \u0027manufacturing\u0027, \u0027of\u0027, \u0027staple\u0027, \u0027petrochemical\u0027, \u0027commodities\u0027, \u0027,\u0027, \u0027such\u0027,\n",
            "  \u0027as\u0027, \u0027ethylene\u0027, \u0027,\u0027, \u0027in\u0027, \u0027favor\u0027, \u0027of\u0027, \u0027more\u0027, \u0027profitable\u0027, \u0027specialty\u0027, \u0027chemicals\u0027,\n",
            "  \u0027that\u0027, \u0027are\u0027, \u0027custom\u0027, \u0027-\u0027, \u0027designed\u0027, \u0027for\u0027, \u0027a\u0027, \u0027small\u0027, \u0027group\u0027, \u0027of\u0027, \u0027buyers\u0027, \u0027.\u0027, \u0027\"\u0027,\n",
            "  \u0027companies\u0027, \u0027like\u0027, \u0027dupont\u0027, \u0027\u0026\u0027, \u0027lt\u0027, \u0027;\u0027, \u0027dd\u0027, \u0027\u003e\u0027, \u0027and\u0027, \u0027monsanto\u0027, \u0027co\u0027, \u0027\u0026\u0027, \u0027lt\u0027, \u0027;\u0027,\n",
            "  \u0027mtc\u0027, \u0027\u003e\u0027, \u0027spent\u0027, \u0027the\u0027, \u0027past\u0027, \u0027two\u0027, \u0027or\u0027, \u0027three\u0027, \u0027years\u0027, \u0027trying\u0027, \u0027to\u0027, \u0027get\u0027, \u0027out\u0027,\n",
            "  \u0027of\u0027, \u0027the\u0027, \u0027commodity\u0027, \u0027chemical\u0027, \u0027business\u0027, \u0027in\u0027, \u0027reaction\u0027, \u0027to\u0027, \u0027how\u0027, \u0027badly\u0027, \u0027the\u0027,\n",
            "  \u0027market\u0027, \u0027had\u0027, \u0027deteriorated\u0027, \u0027,\"\u0027, \u0027dosher\u0027, \u0027said\u0027, \u0027.\u0027, \u0027\"\u0027, \u0027but\u0027, \u0027i\u0027, \u0027think\u0027, \u0027they\u0027,\n",
            "  \u0027will\u0027, \u0027eventually\u0027, \u0027kill\u0027, \u0027the\u0027, \u0027margins\u0027, \u0027on\u0027, \u0027the\u0027, \u0027profitable\u0027, \u0027chemicals\u0027, \u0027in\u0027,\n",
            "  \u0027the\u0027, \u0027niche\u0027, \u0027market\u0027, \u0027.\"\u0027, \u0027some\u0027, \u0027top\u0027, \u0027chemical\u0027, \u0027executives\u0027, \u0027share\u0027, \u0027the\u0027,\n",
            "  \u0027concern\u0027, \u0027.\u0027, \u0027\"\u0027, \u0027the\u0027, \u0027challenge\u0027, \u0027for\u0027, \u0027our\u0027, \u0027industry\u0027, \u0027is\u0027, \u0027to\u0027, \u0027keep\u0027, \u0027from\u0027,\n",
            "  \u0027getting\u0027, \u0027carried\u0027, \u0027away\u0027, \u0027and\u0027, \u0027repeating\u0027, \u0027past\u0027, \u0027mistakes\u0027, \u0027,\"\u0027, \u0027gaf\u0027, \"\u0027\", \u0027s\u0027,\n",
            "  \u0027heyman\u0027, \u0027cautioned\u0027, \u0027.\u0027, \u0027\"\u0027, \u0027the\u0027, \u0027shift\u0027, \u0027from\u0027, \u0027commodity\u0027, \u0027chemicals\u0027, \u0027may\u0027, \u0027be\u0027,\n",
            "  \u0027ill\u0027, \u0027-\u0027, \u0027advised\u0027, \u0027.\u0027, \u0027specialty\u0027, \u0027businesses\u0027, \u0027do\u0027, \u0027not\u0027, \u0027stay\u0027, \u0027special\u0027, \u0027long\u0027,\n",
            "  \u0027.\"\u0027, \u0027houston\u0027, \u0027-\u0027, \u0027based\u0027, \u0027cain\u0027, \u0027chemical\u0027, \u0027,\u0027, \u0027created\u0027, \u0027this\u0027, \u0027month\u0027, \u0027by\u0027, \u0027the\u0027,\n",
            "  \u0027sterling\u0027, \u0027investment\u0027, \u0027banking\u0027, \u0027group\u0027, \u0027,\u0027, \u0027believes\u0027, \u0027it\u0027, \u0027can\u0027, \u0027generate\u0027, \u0027700\u0027,\n",
            "  \u0027mln\u0027, \u0027dlrs\u0027, \u0027in\u0027, \u0027annual\u0027, \u0027sales\u0027, \u0027by\u0027, \u0027bucking\u0027, \u0027the\u0027, \u0027industry\u0027, \u0027trend\u0027, \u0027.\u0027,\n",
            "  \u0027chairman\u0027, \u0027gordon\u0027, \u0027cain\u0027, \u0027,\u0027, \u0027who\u0027, \u0027previously\u0027, \u0027led\u0027, \u0027a\u0027, \u0027leveraged\u0027, \u0027buyout\u0027, \u0027of\u0027,\n",
            "  \u0027dupont\u0027, \"\u0027\", \u0027s\u0027, \u0027conoco\u0027, \u0027inc\u0027, \"\u0027\", \u0027s\u0027, \u0027chemical\u0027, \u0027business\u0027, \u0027,\u0027, \u0027has\u0027, \u0027spent\u0027, \u00271\u0027,\n",
            "  \u0027.\u0027, \u00271\u0027, \u0027billion\u0027, \u0027dlrs\u0027, \u0027since\u0027, \u0027january\u0027, \u0027to\u0027, \u0027buy\u0027, \u0027seven\u0027, \u0027petrochemical\u0027, \u0027plants\u0027,\n",
            "  \u0027along\u0027, \u0027the\u0027, \u0027texas\u0027, \u0027gulf\u0027, \u0027coast\u0027, \u0027.\u0027, \u0027the\u0027, \u0027plants\u0027, \u0027produce\u0027, \u0027only\u0027, \u0027basic\u0027,\n",
            "  \u0027commodity\u0027, \u0027petrochemicals\u0027, \u0027that\u0027, \u0027are\u0027, \u0027the\u0027, \u0027building\u0027, \u0027blocks\u0027, \u0027of\u0027, \u0027specialty\u0027,\n",
            "  \u0027products\u0027, \u0027.\u0027, \u0027\"\u0027, \u0027this\u0027, \u0027kind\u0027, \u0027of\u0027, \u0027commodity\u0027, \u0027chemical\u0027, \u0027business\u0027, \u0027will\u0027, \u0027never\u0027,\n",
            "  \u0027be\u0027, \u0027a\u0027, \u0027glamorous\u0027, \u0027,\u0027, \u0027high\u0027, \u0027-\u0027, \u0027margin\u0027, \u0027business\u0027, \u0027,\"\u0027, \u0027cain\u0027, \u0027said\u0027, \u0027,\u0027,\n",
            "  \u0027adding\u0027, \u0027that\u0027, \u0027demand\u0027, \u0027is\u0027, \u0027expected\u0027, \u0027to\u0027, \u0027grow\u0027, \u0027by\u0027, \u0027about\u0027, \u0027three\u0027, \u0027pct\u0027,\n",
            "  \u0027annually\u0027, \u0027.\u0027, \u0027garo\u0027, \u0027armen\u0027, \u0027,\u0027, \u0027an\u0027, \u0027analyst\u0027, \u0027with\u0027, \u0027dean\u0027, \u0027witter\u0027, \u0027reynolds\u0027, \u0027,\u0027,\n",
            "  \u0027said\u0027, \u0027chemical\u0027, \u0027makers\u0027, \u0027have\u0027, \u0027also\u0027, \u0027benefitted\u0027, \u0027by\u0027, \u0027increasing\u0027, \u0027demand\u0027, \u0027for\u0027,\n",
            "  \u0027plastics\u0027, \u0027as\u0027, \u0027prices\u0027, \u0027become\u0027, \u0027more\u0027, \u0027competitive\u0027, \u0027with\u0027, \u0027aluminum\u0027, \u0027,\u0027, \u0027wood\u0027,\n",
            "  \u0027and\u0027, \u0027steel\u0027, \u0027products\u0027, \u0027.\u0027, \u0027armen\u0027, \u0027estimated\u0027, \u0027the\u0027, \u0027upturn\u0027, \u0027in\u0027, \u0027the\u0027, \u0027chemical\u0027,\n",
            "  \u0027business\u0027, \u0027could\u0027, \u0027last\u0027, \u0027as\u0027, \u0027long\u0027, \u0027as\u0027, \u0027four\u0027, \u0027or\u0027, \u0027five\u0027, \u0027years\u0027, \u0027,\u0027, \u0027provided\u0027,\n",
            "  \u0027the\u0027, \u0027u\u0027, \u0027.\u0027, \u0027s\u0027, \u0027.\u0027, \u0027economy\u0027, \u0027continues\u0027, \u0027its\u0027, \u0027modest\u0027, \u0027rate\u0027, \u0027of\u0027, \u0027growth\u0027, \u0027.\u0027,\n",
            "  \u0027\u003cEND\u003e\u0027],\n",
            " [\u0027\u003cSTART\u003e\u0027, \u0027turkey\u0027, \u0027calls\u0027, \u0027for\u0027, \u0027dialogue\u0027, \u0027to\u0027, \u0027solve\u0027, \u0027dispute\u0027, \u0027turkey\u0027, \u0027said\u0027,\n",
            "  \u0027today\u0027, \u0027its\u0027, \u0027disputes\u0027, \u0027with\u0027, \u0027greece\u0027, \u0027,\u0027, \u0027including\u0027, \u0027rights\u0027, \u0027on\u0027, \u0027the\u0027,\n",
            "  \u0027continental\u0027, \u0027shelf\u0027, \u0027in\u0027, \u0027the\u0027, \u0027aegean\u0027, \u0027sea\u0027, \u0027,\u0027, \u0027should\u0027, \u0027be\u0027, \u0027solved\u0027, \u0027through\u0027,\n",
            "  \u0027negotiations\u0027, \u0027.\u0027, \u0027a\u0027, \u0027foreign\u0027, \u0027ministry\u0027, \u0027statement\u0027, \u0027said\u0027, \u0027the\u0027, \u0027latest\u0027, \u0027crisis\u0027,\n",
            "  \u0027between\u0027, \u0027the\u0027, \u0027two\u0027, \u0027nato\u0027, \u0027members\u0027, \u0027stemmed\u0027, \u0027from\u0027, \u0027the\u0027, \u0027continental\u0027, \u0027shelf\u0027,\n",
            "  \u0027dispute\u0027, \u0027and\u0027, \u0027an\u0027, \u0027agreement\u0027, \u0027on\u0027, \u0027this\u0027, \u0027issue\u0027, \u0027would\u0027, \u0027effect\u0027, \u0027the\u0027, \u0027security\u0027,\n",
            "  \u0027,\u0027, \u0027economy\u0027, \u0027and\u0027, \u0027other\u0027, \u0027rights\u0027, \u0027of\u0027, \u0027both\u0027, \u0027countries\u0027, \u0027.\u0027, \u0027\"\u0027, \u0027as\u0027, \u0027the\u0027,\n",
            "  \u0027issue\u0027, \u0027is\u0027, \u0027basicly\u0027, \u0027political\u0027, \u0027,\u0027, \u0027a\u0027, \u0027solution\u0027, \u0027can\u0027, \u0027only\u0027, \u0027be\u0027, \u0027found\u0027, \u0027by\u0027,\n",
            "  \u0027bilateral\u0027, \u0027negotiations\u0027, \u0027,\"\u0027, \u0027the\u0027, \u0027statement\u0027, \u0027said\u0027, \u0027.\u0027, \u0027greece\u0027, \u0027has\u0027, \u0027repeatedly\u0027,\n",
            "  \u0027said\u0027, \u0027the\u0027, \u0027issue\u0027, \u0027was\u0027, \u0027legal\u0027, \u0027and\u0027, \u0027could\u0027, \u0027be\u0027, \u0027solved\u0027, \u0027at\u0027, \u0027the\u0027,\n",
            "  \u0027international\u0027, \u0027court\u0027, \u0027of\u0027, \u0027justice\u0027, \u0027.\u0027, \u0027the\u0027, \u0027two\u0027, \u0027countries\u0027, \u0027approached\u0027, \u0027armed\u0027,\n",
            "  \u0027confrontation\u0027, \u0027last\u0027, \u0027month\u0027, \u0027after\u0027, \u0027greece\u0027, \u0027announced\u0027, \u0027it\u0027, \u0027planned\u0027, \u0027oil\u0027,\n",
            "  \u0027exploration\u0027, \u0027work\u0027, \u0027in\u0027, \u0027the\u0027, \u0027aegean\u0027, \u0027and\u0027, \u0027turkey\u0027, \u0027said\u0027, \u0027it\u0027, \u0027would\u0027, \u0027also\u0027,\n",
            "  \u0027search\u0027, \u0027for\u0027, \u0027oil\u0027, \u0027.\u0027, \u0027a\u0027, \u0027face\u0027, \u0027-\u0027, \u0027off\u0027, \u0027was\u0027, \u0027averted\u0027, \u0027when\u0027, \u0027turkey\u0027,\n",
            "  \u0027confined\u0027, \u0027its\u0027, \u0027research\u0027, \u0027to\u0027, \u0027territorrial\u0027, \u0027waters\u0027, \u0027.\u0027, \u0027\"\u0027, \u0027the\u0027, \u0027latest\u0027,\n",
            "  \u0027crises\u0027, \u0027created\u0027, \u0027an\u0027, \u0027historic\u0027, \u0027opportunity\u0027, \u0027to\u0027, \u0027solve\u0027, \u0027the\u0027, \u0027disputes\u0027, \u0027between\u0027,\n",
            "  \u0027the\u0027, \u0027two\u0027, \u0027countries\u0027, \u0027,\"\u0027, \u0027the\u0027, \u0027foreign\u0027, \u0027ministry\u0027, \u0027statement\u0027, \u0027said\u0027, \u0027.\u0027, \u0027turkey\u0027,\n",
            "  \"\u0027\", \u0027s\u0027, \u0027ambassador\u0027, \u0027in\u0027, \u0027athens\u0027, \u0027,\u0027, \u0027nazmi\u0027, \u0027akiman\u0027, \u0027,\u0027, \u0027was\u0027, \u0027due\u0027, \u0027to\u0027, \u0027meet\u0027,\n",
            "  \u0027prime\u0027, \u0027minister\u0027, \u0027andreas\u0027, \u0027papandreou\u0027, \u0027today\u0027, \u0027for\u0027, \u0027the\u0027, \u0027greek\u0027, \u0027reply\u0027, \u0027to\u0027, \u0027a\u0027,\n",
            "  \u0027message\u0027, \u0027sent\u0027, \u0027last\u0027, \u0027week\u0027, \u0027by\u0027, \u0027turkish\u0027, \u0027prime\u0027, \u0027minister\u0027, \u0027turgut\u0027, \u0027ozal\u0027, \u0027.\u0027,\n",
            "  \u0027the\u0027, \u0027contents\u0027, \u0027of\u0027, \u0027the\u0027, \u0027message\u0027, \u0027were\u0027, \u0027not\u0027, \u0027disclosed\u0027, \u0027.\u0027, \u0027\u003cEND\u003e\u0027]]\n"
          ],
          "name": "stdout"
        }
      ]
    },
    {
      "cell_type": "markdown",
      "metadata": {
        "id": "LvUU10bjZyAo",
        "colab_type": "text",
        "pycharm": {}
      },
      "source": [
        "### Question 1.1: Implement `distinct_words` [code] (2 points)\n",
        "\n",
        "Write a method to work out the distinct words (word types) that occur in the corpus. You can do this with `for` loops, but it\u0027s more efficient to do it with Python list comprehensions. In particular, [this](https://coderwall.com/p/rcmaea/flatten-a-list-of-lists-in-one-line-in-python) may be useful to flatten a list of lists. If you\u0027re not familiar with Python list comprehensions in general, here\u0027s [more information](https://python-3-patterns-idioms-test.readthedocs.io/en/latest/Comprehensions.html).\n",
        "\n",
        "You may find it useful to use [Python sets](https://www.w3schools.com/python/python_sets.asp) to remove duplicate words."
      ]
    },
    {
      "cell_type": "code",
      "metadata": {
        "id": "NL_ST9_wZyAp",
        "colab_type": "code",
        "colab": {},
        "pycharm": {}
      },
      "source": [
        "def distinct_words(corpus):\n",
        "    \"\"\" Determine a list of distinct words for the corpus.\n",
        "        Params:\n",
        "            corpus (list of list of strings): corpus of documents\n",
        "        Return:\n",
        "            corpus_words (list of strings): list of distinct words across the corpus, sorted (using python \u0027sorted\u0027 function)\n",
        "            num_corpus_words (integer): number of distinct words across the corpus\n",
        "    \"\"\"\n",
        "    corpus_words \u003d []\n",
        "    num_corpus_words \u003d -1\n",
        "    \n",
        "    # ------------------\n",
        "    # Write your implementation here.\n",
        "    corpus_words \u003d sorted(list(set([x for y in corpus for x in y])))\n",
        "    num_corpus_words \u003d len(corpus_words)\n",
        "\n",
        "    # ------------------\n",
        "\n",
        "    return corpus_words, num_corpus_words"
      ],
      "execution_count": 0,
      "outputs": []
    },
    {
      "cell_type": "code",
      "metadata": {
        "id": "AvV8q63rZyAx",
        "colab_type": "code",
        "outputId": "fe2755f3-905d-40fa-84a4-c205013e7d75",
        "colab": {
          "base_uri": "https://localhost:8080/",
          "height": 67
        },
        "pycharm": {}
      },
      "source": [
        "# ---------------------\n",
        "# Run this sanity check\n",
        "# Note that this not an exhaustive check for correctness.\n",
        "# ---------------------\n",
        "\n",
        "# Define toy corpus\n",
        "test_corpus \u003d [\"START All that glitters isn\u0027t gold END\".split(\" \"), \"START All\u0027s well that ends well END\".split(\" \")]\n",
        "test_corpus_words, num_corpus_words \u003d distinct_words(test_corpus)\n",
        "\n",
        "# Correct answers\n",
        "ans_test_corpus_words \u003d sorted(list(set([\"START\", \"All\", \"ends\", \"that\", \"gold\", \"All\u0027s\", \"glitters\", \"isn\u0027t\", \"well\", \"END\"])))\n",
        "ans_num_corpus_words \u003d len(ans_test_corpus_words)\n",
        "\n",
        "# Test correct number of words\n",
        "assert(num_corpus_words \u003d\u003d ans_num_corpus_words), \"Incorrect number of distinct words. Correct: {}. Yours: {}\".format(ans_num_corpus_words, num_corpus_words)\n",
        "\n",
        "# Test correct words\n",
        "assert (test_corpus_words \u003d\u003d ans_test_corpus_words), \"Incorrect corpus_words.\\nCorrect: {}\\nYours:   {}\".format(str(ans_test_corpus_words), str(test_corpus_words))\n",
        "\n",
        "# Print Success\n",
        "print (\"-\" * 80)\n",
        "print(\"Passed All Tests!\")\n",
        "print (\"-\" * 80)"
      ],
      "execution_count": 0,
      "outputs": [
        {
          "output_type": "stream",
          "text": [
            "--------------------------------------------------------------------------------\n",
            "Passed All Tests!\n",
            "--------------------------------------------------------------------------------\n"
          ],
          "name": "stdout"
        }
      ]
    },
    {
      "cell_type": "markdown",
      "metadata": {
        "id": "L0W2ys93ZyAz",
        "colab_type": "text",
        "pycharm": {}
      },
      "source": [
        "### Question 1.2: Implement `compute_co_occurrence_matrix` [code] (3 points)\n",
        "\n",
        "Write a method that constructs a co-occurrence matrix for a certain window-size $n$ (with a default of 4), considering words $n$ before and $n$ after the word in the center of the window. Here, we start to use `numpy (np)` to represent vectors, matrices, and tensors. If you\u0027re not familiar with NumPy, there\u0027s a NumPy tutorial in the second half of this cs231n [Python NumPy tutorial](http://cs231n.github.io/python-numpy-tutorial/).\n"
      ]
    },
    {
      "cell_type": "code",
      "metadata": {
        "id": "D4imc3N6ZyA0",
        "colab_type": "code",
        "colab": {},
        "pycharm": {}
      },
      "source": [
        "def compute_co_occurrence_matrix(corpus, window_size\u003d4):\n",
        "    \"\"\" Compute co-occurrence matrix for the given corpus and window_size (default of 4).\n",
        "    \n",
        "        Note: Each word in a document should be at the center of a window. Words near edges will have a smaller\n",
        "              number of co-occurring words.\n",
        "              \n",
        "              For example, if we take the document \"START All that glitters is not gold END\" with window size of 4,\n",
        "              \"All\" will co-occur with \"START\", \"that\", \"glitters\", \"is\", and \"not\".\n",
        "    \n",
        "        Params:\n",
        "            corpus (list of list of strings): corpus of documents\n",
        "            window_size (int): size of context window\n",
        "        Return:\n",
        "            M (numpy matrix of shape (number of corpus words, number of corpus words)): \n",
        "                Co-occurence matrix of word counts. \n",
        "                The ordering of the words in the rows/columns should be the same as the ordering of the words given by the distinct_words function.\n",
        "            word2Ind (dict): dictionary that maps word to index (i.e. row/column number) for matrix M.\n",
        "    \"\"\"\n",
        "    words, num_words \u003d distinct_words(corpus)\n",
        "    M \u003d None\n",
        "    word2Ind \u003d {}\n",
        "    \n",
        "    # ------------------\n",
        "    # Write your implementation here.\n",
        "    M \u003d np.zeros((num_words, num_words))\n",
        "    word2Ind \u003d dict(zip(words, range(num_words)))\n",
        "\n",
        "    for sentence in corpus:\n",
        "        for i in range(len(sentence)):\n",
        "            for difference in range(1, window_size + 1):\n",
        "                if (i + difference \u003c len(sentence)):\n",
        "                    M[word2Ind[sentence[i]]][word2Ind[sentence[i + difference]]] +\u003d 1\n",
        "                if (i - difference \u003e\u003d 0):\n",
        "                    M[word2Ind[sentence[i]]][word2Ind[sentence[i - difference]]] +\u003d 1\n",
        "\n",
        "    # ------------------\n",
        "\n",
        "    return M, word2Ind"
      ],
      "execution_count": 0,
      "outputs": []
    },
    {
      "cell_type": "code",
      "metadata": {
        "id": "sFaX7sTFZyA4",
        "colab_type": "code",
        "outputId": "0ba834a3-609b-4b1c-8492-5c6a85b350c9",
        "colab": {
          "base_uri": "https://localhost:8080/",
          "height": 67
        },
        "pycharm": {}
      },
      "source": [
        "# ---------------------\n",
        "# Run this sanity check\n",
        "# Note that this is not an exhaustive check for correctness.\n",
        "# ---------------------\n",
        "\n",
        "# Define toy corpus and get student\u0027s co-occurrence matrix\n",
        "test_corpus \u003d [\"START All that glitters isn\u0027t gold END\".split(\" \"), \"START All\u0027s well that ends well END\".split(\" \")]\n",
        "M_test, word2Ind_test \u003d compute_co_occurrence_matrix(test_corpus, window_size\u003d1)\n",
        "\n",
        "# Correct M and word2Ind\n",
        "M_test_ans \u003d np.array( \n",
        "    [[0., 0., 0., 1., 0., 0., 0., 0., 1., 0.,],\n",
        "     [0., 0., 0., 1., 0., 0., 0., 0., 0., 1.,],\n",
        "     [0., 0., 0., 0., 0., 0., 1., 0., 0., 1.,],\n",
        "     [1., 1., 0., 0., 0., 0., 0., 0., 0., 0.,],\n",
        "     [0., 0., 0., 0., 0., 0., 0., 0., 1., 1.,],\n",
        "     [0., 0., 0., 0., 0., 0., 0., 1., 1., 0.,],\n",
        "     [0., 0., 1., 0., 0., 0., 0., 1., 0., 0.,],\n",
        "     [0., 0., 0., 0., 0., 1., 1., 0., 0., 0.,],\n",
        "     [1., 0., 0., 0., 1., 1., 0., 0., 0., 1.,],\n",
        "     [0., 1., 1., 0., 1., 0., 0., 0., 1., 0.,]]\n",
        ")\n",
        "word2Ind_ans \u003d {\u0027All\u0027: 0, \"All\u0027s\": 1, \u0027END\u0027: 2, \u0027START\u0027: 3, \u0027ends\u0027: 4, \u0027glitters\u0027: 5, \u0027gold\u0027: 6, \"isn\u0027t\": 7, \u0027that\u0027: 8, \u0027well\u0027: 9}\n",
        "\n",
        "# Test correct word2Ind\n",
        "assert (word2Ind_ans \u003d\u003d word2Ind_test), \"Your word2Ind is incorrect:\\nCorrect: {}\\nYours: {}\".format(word2Ind_ans, word2Ind_test)\n",
        "\n",
        "# Test correct M shape\n",
        "assert (M_test.shape \u003d\u003d M_test_ans.shape), \"M matrix has incorrect shape.\\nCorrect: {}\\nYours: {}\".format(M_test.shape, M_test_ans.shape)\n",
        "\n",
        "# Test correct M values\n",
        "for w1 in word2Ind_ans.keys():\n",
        "    idx1 \u003d word2Ind_ans[w1]\n",
        "    for w2 in word2Ind_ans.keys():\n",
        "        idx2 \u003d word2Ind_ans[w2]\n",
        "        student \u003d M_test[idx1, idx2]\n",
        "        correct \u003d M_test_ans[idx1, idx2]\n",
        "        if student !\u003d correct:\n",
        "            print(\"Correct M:\")\n",
        "            print(M_test_ans)\n",
        "            print(\"Your M: \")\n",
        "            print(M_test)\n",
        "            raise AssertionError(\"Incorrect count at index ({}, {})\u003d({}, {}) in matrix M. Yours has {} but should have {}.\".format(idx1, idx2, w1, w2, student, correct))\n",
        "\n",
        "# Print Success\n",
        "print (\"-\" * 80)\n",
        "print(\"Passed All Tests!\")\n",
        "print (\"-\" * 80)"
      ],
      "execution_count": 0,
      "outputs": [
        {
          "output_type": "stream",
          "text": [
            "--------------------------------------------------------------------------------\n",
            "Passed All Tests!\n",
            "--------------------------------------------------------------------------------\n"
          ],
          "name": "stdout"
        }
      ]
    },
    {
      "cell_type": "markdown",
      "metadata": {
        "id": "RDMX6opFZyA7",
        "colab_type": "text",
        "pycharm": {}
      },
      "source": [
        "### Question 1.3: Implement `reduce_to_k_dim` [code] (1 point)\n",
        "\n",
        "Construct a method that performs dimensionality reduction on the matrix to produce k-dimensional embeddings. Use SVD to take the top k components and produce a new matrix of k-dimensional embeddings. \n",
        "\n",
        "**Note:** All of numpy, scipy, and scikit-learn (`sklearn`) provide *some* implementation of SVD, but only scipy and sklearn provide an implementation of Truncated SVD, and only sklearn provides an efficient randomized algorithm for calculating large-scale Truncated SVD. So please use [sklearn.decomposition.TruncatedSVD](https://scikit-learn.org/stable/modules/generated/sklearn.decomposition.TruncatedSVD.html)."
      ]
    },
    {
      "cell_type": "code",
      "metadata": {
        "id": "JLVFZYMQZyA8",
        "colab_type": "code",
        "colab": {},
        "pycharm": {}
      },
      "source": [
        "def reduce_to_k_dim(M, k\u003d2):\n",
        "    \"\"\" Reduce a co-occurence count matrix of dimensionality (num_corpus_words, num_corpus_words)\n",
        "        to a matrix of dimensionality (num_corpus_words, k) using the following SVD function from Scikit-Learn:\n",
        "            - http://scikit-learn.org/stable/modules/generated/sklearn.decomposition.TruncatedSVD.html\n",
        "    \n",
        "        Params:\n",
        "            M (numpy matrix of shape (number of corpus words, number of corpus words)): co-occurence matrix of word counts\n",
        "            k (int): embedding size of each word after dimension reduction\n",
        "        Return:\n",
        "            M_reduced (numpy matrix of shape (number of corpus words, k)): matrix of k-dimensioal word embeddings.\n",
        "                    In terms of the SVD from math class, this actually returns U * S\n",
        "    \"\"\"    \n",
        "    n_iters \u003d 10     # Use this parameter in your call to `TruncatedSVD`\n",
        "    M_reduced \u003d None\n",
        "    print(\"Running Truncated SVD over %i words...\" % (M.shape[0]))\n",
        "    \n",
        "    # ------------------\n",
        "    # Write your implementation here.\n",
        "    svd \u003d TruncatedSVD(n_components\u003dk)\n",
        "    M_reduced \u003d svd.fit_transform(M)\n",
        "    \n",
        "    # ------------------\n",
        "\n",
        "    print(\"Done.\")\n",
        "    return M_reduced"
      ],
      "execution_count": 0,
      "outputs": []
    },
    {
      "cell_type": "code",
      "metadata": {
        "id": "5545qptsZyA_",
        "colab_type": "code",
        "outputId": "e1056ec8-67b4-481c-a6b9-6b86cc79dece",
        "colab": {
          "base_uri": "https://localhost:8080/",
          "height": 100
        },
        "pycharm": {}
      },
      "source": [
        "# ---------------------\n",
        "# Run this sanity check\n",
        "# Note that this not an exhaustive check for correctness \n",
        "# In fact we only check that your M_reduced has the right dimensions.\n",
        "# ---------------------\n",
        "\n",
        "# Define toy corpus and run student code\n",
        "test_corpus \u003d [\"START All that glitters isn\u0027t gold END\".split(\" \"), \"START All\u0027s well that ends well END\".split(\" \")]\n",
        "M_test, word2Ind_test \u003d compute_co_occurrence_matrix(test_corpus, window_size\u003d1)\n",
        "M_test_reduced \u003d reduce_to_k_dim(M_test, k\u003d2)\n",
        "\n",
        "# Test proper dimensions\n",
        "assert (M_test_reduced.shape[0] \u003d\u003d 10), \"M_reduced has {} rows; should have {}\".format(M_test_reduced.shape[0], 10)\n",
        "assert (M_test_reduced.shape[1] \u003d\u003d 2), \"M_reduced has {} columns; should have {}\".format(M_test_reduced.shape[1], 2)\n",
        "\n",
        "# Print Success\n",
        "print (\"-\" * 80)\n",
        "print(\"Passed All Tests!\")\n",
        "print (\"-\" * 80)"
      ],
      "execution_count": 0,
      "outputs": [
        {
          "output_type": "stream",
          "text": [
            "Running Truncated SVD over 10 words...\n",
            "Done.\n",
            "--------------------------------------------------------------------------------\n",
            "Passed All Tests!\n",
            "--------------------------------------------------------------------------------\n"
          ],
          "name": "stdout"
        }
      ]
    },
    {
      "cell_type": "markdown",
      "metadata": {
        "id": "3KL9owI3ZyBC",
        "colab_type": "text",
        "pycharm": {}
      },
      "source": [
        "### Question 1.4: Implement `plot_embeddings` [code] (1 point)\n",
        "\n",
        "Here you will write a function to plot a set of 2D vectors in 2D space. For graphs, we will use Matplotlib (`plt`).\n",
        "\n",
        "For this example, you may find it useful to adapt [this code](https://www.pythonmembers.club/2018/05/08/matplotlib-scatter-plot-annotate-set-text-at-label-each-point/). In the future, a good way to make a plot is to look at [the Matplotlib gallery](https://matplotlib.org/gallery/index.html), find a plot that looks somewhat like what you want, and adapt the code they give."
      ]
    },
    {
      "cell_type": "code",
      "metadata": {
        "id": "qC2LuwpnZyBD",
        "colab_type": "code",
        "colab": {},
        "pycharm": {}
      },
      "source": [
        "def plot_embeddings(M_reduced, word2Ind, words):\n",
        "    \"\"\" Plot in a scatterplot the embeddings of the words specified in the list \"words\".\n",
        "        NOTE: do not plot all the words listed in M_reduced / word2Ind.\n",
        "        Include a label next to each point.\n",
        "        \n",
        "        Params:\n",
        "            M_reduced (numpy matrix of shape (number of unique words in the corpus , k)): matrix of k-dimensioal word embeddings\n",
        "            word2Ind (dict): dictionary that maps word to indices for matrix M\n",
        "            words (list of strings): words whose embeddings we want to visualize\n",
        "    \"\"\"\n",
        "\n",
        "    # ------------------\n",
        "    # Write your implementation here.\n",
        "    for word in words:\n",
        "      i \u003d word2Ind[word]\n",
        "      X \u003d M_reduced[i][0]\n",
        "      Y \u003d M_reduced[i][1]\n",
        "      plt.scatter(X, Y)\n",
        "      plt.text(X, Y, word, fontsize\u003d10)\n",
        "  \n",
        "    plt.show()\n",
        "\n",
        "    # ------------------"
      ],
      "execution_count": 0,
      "outputs": []
    },
    {
      "cell_type": "code",
      "metadata": {
        "id": "pm6ftmTfZyBG",
        "colab_type": "code",
        "outputId": "a0c4d706-5b94-4bc8-ca7c-22bea48d8fc2",
        "colab": {
          "base_uri": "https://localhost:8080/",
          "height": 370
        },
        "pycharm": {}
      },
      "source": [
        "# ---------------------\n",
        "# Run this sanity check\n",
        "# Note that this not an exhaustive check for correctness.\n",
        "# The plot produced should look like the \"test solution plot\" depicted below. \n",
        "# ---------------------\n",
        "\n",
        "print (\"-\" * 80)\n",
        "print (\"Outputted Plot:\")\n",
        "\n",
        "M_reduced_plot_test \u003d np.array([[1, 1], [-1, -1], [1, -1], [-1, 1], [0, 0]])\n",
        "word2Ind_plot_test \u003d {\u0027test1\u0027: 0, \u0027test2\u0027: 1, \u0027test3\u0027: 2, \u0027test4\u0027: 3, \u0027test5\u0027: 4}\n",
        "words \u003d [\u0027test1\u0027, \u0027test2\u0027, \u0027test3\u0027, \u0027test4\u0027, \u0027test5\u0027]\n",
        "plot_embeddings(M_reduced_plot_test, word2Ind_plot_test, words)\n",
        "\n",
        "print (\"-\" * 80)"
      ],
      "execution_count": 0,
      "outputs": [
        {
          "output_type": "stream",
          "text": [
            "--------------------------------------------------------------------------------\n",
            "Outputted Plot:\n"
          ],
          "name": "stdout"
        },
        {
          "output_type": "display_data",
          "data": {
            "image/png": "[encoded data removed]",
            "text/plain": [
              "\u003cFigure size 720x360 with 1 Axes\u003e"
            ]
          },
          "metadata": {
            "tags": []
          }
        },
        {
          "output_type": "stream",
          "text": [
            "--------------------------------------------------------------------------------\n"
          ],
          "name": "stdout"
        }
      ]
    },
    {
      "cell_type": "markdown",
      "metadata": {
        "id": "rRxTN5gUZyBI",
        "colab_type": "text",
        "pycharm": {}
      },
      "source": [
        "\u003cfont color\u003dred\u003e**Test Plot Solution**\u003c/font\u003e\n",
        "\u003cbr\u003e\n",
        "\u003cimg src\u003d\"imgs/test_plot.png\" width\u003d40% style\u003d\"float: left;\"\u003e \u003c/img\u003e\n"
      ]
    },
    {
      "cell_type": "markdown",
      "metadata": {
        "id": "1EnDxzWTZyBL",
        "colab_type": "text",
        "pycharm": {}
      },
      "source": [
        "### Question 1.5: Co-Occurrence Plot Analysis [written] (3 points)\n",
        "\n",
        "Now we will put together all the parts you have written! We will compute the co-occurrence matrix with fixed window of 4, over the Reuters \"crude\" corpus. Then we will use TruncatedSVD to compute 2-dimensional embeddings of each word. TruncatedSVD returns U\\*S, so we normalize the returned vectors, so that all the vectors will appear around the unit circle (therefore closeness is directional closeness). **Note**: The line of code below that does the normalizing uses the NumPy concept of *broadcasting*. If you don\u0027t know about broadcasting, check out\n",
        "[Computation on Arrays: Broadcasting by Jake VanderPlas](https://jakevdp.github.io/PythonDataScienceHandbook/02.05-computation-on-arrays-broadcasting.html).\n",
        "\n",
        "Run the below cell to produce the plot. It\u0027ll probably take a few seconds to run."
      ]
    },
    {
      "cell_type": "code",
      "metadata": {
        "id": "E3NF8RYYZyBM",
        "colab_type": "code",
        "outputId": "5136a248-869e-42f9-ab2d-49095423da4e",
        "colab": {
          "base_uri": "https://localhost:8080/",
          "height": 353
        },
        "pycharm": {}
      },
      "source": [
        "# -----------------------------\n",
        "# Run This Cell to Produce Your Plot\n",
        "# ------------------------------\n",
        "reuters_corpus \u003d read_corpus()\n",
        "M_co_occurrence, word2Ind_co_occurrence \u003d compute_co_occurrence_matrix(reuters_corpus)\n",
        "M_reduced_co_occurrence \u003d reduce_to_k_dim(M_co_occurrence, k\u003d2)\n",
        "\n",
        "# Rescale (normalize) the rows to make them each of unit-length\n",
        "M_lengths \u003d np.linalg.norm(M_reduced_co_occurrence, axis\u003d1)\n",
        "M_normalized \u003d M_reduced_co_occurrence / M_lengths[:, np.newaxis] # broadcasting\n",
        "\n",
        "words \u003d [\u0027barrels\u0027, \u0027bpd\u0027, \u0027ecuador\u0027, \u0027energy\u0027, \u0027industry\u0027, \u0027kuwait\u0027, \u0027oil\u0027, \u0027output\u0027, \u0027petroleum\u0027, \u0027venezuela\u0027]\n",
        "plot_embeddings(M_normalized, word2Ind_co_occurrence, words)"
      ],
      "execution_count": 0,
      "outputs": [
        {
          "output_type": "stream",
          "text": [
            "Running Truncated SVD over 8185 words...\n",
            "Done.\n"
          ],
          "name": "stdout"
        },
        {
          "output_type": "display_data",
          "data": {
            "image/png": "[encoded data removed]",
            "text/plain": [
              "\u003cFigure size 720x360 with 1 Axes\u003e"
            ]
          },
          "metadata": {
            "tags": []
          }
        }
      ]
    },
    {
      "cell_type": "markdown",
      "metadata": {
        "id": "tiDE9Td-ZyBP",
        "colab_type": "text",
        "pycharm": {}
      },
      "source": [
        "What clusters together in 2-dimensional embedding space? What doesn\u0027t cluster together that you might think should have?  **Note:** \"bpd\" stands for \"barrels per day\" and is a commonly used abbreviation in crude oil topic articles."
      ]
    },
    {
      "cell_type": "markdown",
      "metadata": {
        "id": "k6gLTNsGZyBQ",
        "colab_type": "text",
        "pycharm": {}
      },
      "source": [
        "Well, we can see that geographical names like \"ecuador\", \"kuwait\", \"venezuela\" are clustered together. It happend bacause they have the similar meanings (and occur in the similar contexts). We can say the same about \"energy\", \"oil\" and \"petroleum\". To the opposite, \"bpd\" and \"barrels\" even having the same meaning are not close, this is because of \"bpd\" is a abbreviation."
      ]
    },
    {
      "cell_type": "markdown",
      "metadata": {
        "id": "zuZIR5NSZyBR",
        "colab_type": "text",
        "pycharm": {}
      },
      "source": [
        "## Part 2: Prediction-Based Word Vectors (15 points)\n",
        "\n",
        "As discussed in class, more recently prediction-based word vectors have come into fashion, e.g. word2vec. Here, we shall explore the embeddings produced by word2vec. Please revisit the class notes and lecture slides for more details on the word2vec algorithm. If you\u0027re feeling adventurous, challenge yourself and try reading the [original paper](https://papers.nips.cc/paper/5021-distributed-representations-of-words-and-phrases-and-their-compositionality.pdf).\n",
        "\n",
        "Then run the following cells to load the word2vec vectors into memory. **Note**: This might take several minutes."
      ]
    },
    {
      "cell_type": "code",
      "metadata": {
        "id": "Z-JNgxOgZyBS",
        "colab_type": "code",
        "colab": {},
        "pycharm": {}
      },
      "source": [
        "def load_word2vec():\n",
        "    \"\"\" Load Word2Vec Vectors\n",
        "        Return:\n",
        "            wv_from_bin: All 3 million embeddings, each lengh 300\n",
        "    \"\"\"\n",
        "    import gensim.downloader as api\n",
        "    wv_from_bin \u003d api.load(\"word2vec-google-news-300\")\n",
        "    vocab \u003d list(wv_from_bin.vocab.keys())\n",
        "    print(\"Loaded vocab size %i\" % len(vocab))\n",
        "    return wv_from_bin"
      ],
      "execution_count": 0,
      "outputs": []
    },
    {
      "cell_type": "code",
      "metadata": {
        "id": "D4985hHXZyBU",
        "colab_type": "code",
        "outputId": "572e16ff-03bc-448f-9461-461e532dc964",
        "colab": {
          "base_uri": "https://localhost:8080/",
          "height": 104
        },
        "pycharm": {}
      },
      "source": [
        "# -----------------------------------\n",
        "# Run Cell to Load Word Vectors\n",
        "# Note: This may take several minutes\n",
        "# -----------------------------------\n",
        "wv_from_bin \u003d load_word2vec()"
      ],
      "execution_count": 4,
      "outputs": [
        {
          "output_type": "stream",
          "text": [
            "[\u003d\u003d\u003d\u003d\u003d\u003d\u003d\u003d\u003d\u003d\u003d\u003d\u003d\u003d\u003d\u003d\u003d\u003d\u003d\u003d\u003d\u003d\u003d\u003d\u003d\u003d\u003d\u003d\u003d\u003d\u003d\u003d\u003d\u003d\u003d\u003d\u003d\u003d\u003d\u003d\u003d\u003d\u003d\u003d\u003d\u003d\u003d\u003d\u003d\u003d] 100.0% 1662.8/1662.8MB downloaded\n"
          ],
          "name": "stdout"
        },
        {
          "output_type": "stream",
          "text": [
            "/usr/local/lib/python3.6/dist-packages/smart_open/smart_open_lib.py:402: UserWarning: This function is deprecated, use smart_open.open instead. See the migration notes for details: https://github.com/RaRe-Technologies/smart_open/blob/master/README.rst#migrating-to-the-new-open-function\n",
            "  \u0027See the migration notes for details: %s\u0027 % _MIGRATION_NOTES_URL\n"
          ],
          "name": "stderr"
        },
        {
          "output_type": "stream",
          "text": [
            "Loaded vocab size 3000000\n"
          ],
          "name": "stdout"
        }
      ]
    },
    {
      "cell_type": "markdown",
      "metadata": {
        "id": "YWX1zeSFZyBa",
        "colab_type": "text",
        "pycharm": {}
      },
      "source": [
        "**Note: If you are receiving out of memory issues on your local machine, try closing other applications to free more memory on your device. You may want to try restarting your machine so that you can free up extra memory. Then immediately run the jupyter notebook and see if you can load the word vectors properly.**"
      ]
    },
    {
      "cell_type": "markdown",
      "metadata": {
        "id": "LgISdC5uZyBb",
        "colab_type": "text",
        "pycharm": {}
      },
      "source": [
        "### Reducing dimensionality of Word2Vec Word Embeddings\n",
        "Let\u0027s directly compare the word2vec embeddings to those of the co-occurrence matrix. Run the following cells to:\n",
        "\n",
        "1. Put the 3 million word2vec vectors into a matrix M\n",
        "2. Run reduce_to_k_dim (your Truncated SVD function) to reduce the vectors from 300-dimensional to 2-dimensional."
      ]
    },
    {
      "cell_type": "code",
      "metadata": {
        "id": "JBV3uMjTZyBc",
        "colab_type": "code",
        "colab": {},
        "pycharm": {}
      },
      "source": [
        "def get_matrix_of_vectors(wv_from_bin, required_words\u003d[\u0027barrels\u0027, \u0027bpd\u0027, \u0027ecuador\u0027, \u0027energy\u0027, \u0027industry\u0027, \u0027kuwait\u0027, \u0027oil\u0027, \u0027output\u0027, \u0027petroleum\u0027, \u0027venezuela\u0027]):\n",
        "    \"\"\" Put the word2vec vectors into a matrix M.\n",
        "        Param:\n",
        "            wv_from_bin: KeyedVectors object; the 3 million word2vec vectors loaded from file\n",
        "        Return:\n",
        "            M: numpy matrix shape (num words, 300) containing the vectors\n",
        "            word2Ind: dictionary mapping each word to its row number in M\n",
        "    \"\"\"\n",
        "    import random\n",
        "    words \u003d list(wv_from_bin.vocab.keys())\n",
        "    print(\"Shuffling words ...\")\n",
        "    random.shuffle(words)\n",
        "    words \u003d words[:10000]\n",
        "    print(\"Putting %i words into word2Ind and matrix M...\" % len(words))\n",
        "    word2Ind \u003d {}\n",
        "    M \u003d []\n",
        "    curInd \u003d 0\n",
        "    for w in words:\n",
        "        try:\n",
        "            M.append(wv_from_bin.word_vec(w))\n",
        "            word2Ind[w] \u003d curInd\n",
        "            curInd +\u003d 1\n",
        "        except KeyError:\n",
        "            continue\n",
        "    for w in required_words:\n",
        "        try:\n",
        "            M.append(wv_from_bin.word_vec(w))\n",
        "            word2Ind[w] \u003d curInd\n",
        "            curInd +\u003d 1\n",
        "        except KeyError:\n",
        "            continue\n",
        "    M \u003d np.stack(M)\n",
        "    print(\"Done.\")\n",
        "    return M, word2Ind"
      ],
      "execution_count": 0,
      "outputs": []
    },
    {
      "cell_type": "code",
      "metadata": {
        "id": "Q3OfEFi9ZyBf",
        "colab_type": "code",
        "colab": {
          "base_uri": "https://localhost:8080/",
          "height": 178
        },
        "outputId": "67078318-f89d-4ff3-d62b-e580948f06a5",
        "pycharm": {}
      },
      "source": [
        "# -----------------------------------------------------------------\n",
        "# Run Cell to Reduce 300-Dimensinal Word Embeddings to k Dimensions\n",
        "# Note: This may take several minutes\n",
        "# -----------------------------------------------------------------\n",
        "M, word2Ind \u003d get_matrix_of_vectors(wv_from_bin)\n",
        "M_reduced \u003d reduce_to_k_dim(M, k\u003d2)"
      ],
      "execution_count": 2,
      "outputs": [
        {
          "output_type": "error",
          "ename": "NameError",
          "evalue": "ignored",
          "traceback": [
            "\u001b[0;31m---------------------------------------------------------------------------\u001b[0m",
            "\u001b[0;31mNameError\u001b[0m                                 Traceback (most recent call last)",
            "\u001b[0;32m\u003cipython-input-2-4cddbb02e71e\u003e\u001b[0m in \u001b[0;36m\u003cmodule\u003e\u001b[0;34m()\u001b[0m\n\u001b[0;32m----\u003e 1\u001b[0;31m \u001b[0mM\u001b[0m\u001b[0;34m,\u001b[0m \u001b[0mword2Ind\u001b[0m \u001b[0;34m\u003d\u001b[0m \u001b[0mget_matrix_of_vectors\u001b[0m\u001b[0;34m(\u001b[0m\u001b[0mwv_from_bin\u001b[0m\u001b[0;34m)\u001b[0m\u001b[0;34m\u001b[0m\u001b[0;34m\u001b[0m\u001b[0m\n\u001b[0m\u001b[1;32m      2\u001b[0m \u001b[0mM_reduced\u001b[0m \u001b[0;34m\u003d\u001b[0m \u001b[0mreduce_to_k_dim\u001b[0m\u001b[0;34m(\u001b[0m\u001b[0mM\u001b[0m\u001b[0;34m,\u001b[0m \u001b[0mk\u001b[0m\u001b[0;34m\u003d\u001b[0m\u001b[0;36m2\u001b[0m\u001b[0;34m)\u001b[0m\u001b[0;34m\u001b[0m\u001b[0;34m\u001b[0m\u001b[0m\n",
            "\u001b[0;31mNameError\u001b[0m: name \u0027wv_from_bin\u0027 is not defined"
          ]
        }
      ]
    },
    {
      "cell_type": "markdown",
      "metadata": {
        "id": "uGyi8-DEZyBi",
        "colab_type": "text",
        "pycharm": {}
      },
      "source": [
        "### Question 2.1: Word2Vec Plot Analysis [written] (4 points)\n",
        "\n",
        "Run the cell below to plot the 2D word2vec embeddings for `[\u0027barrels\u0027, \u0027bpd\u0027, \u0027ecuador\u0027, \u0027energy\u0027, \u0027industry\u0027, \u0027kuwait\u0027, \u0027oil\u0027, \u0027output\u0027, \u0027petroleum\u0027, \u0027venezuela\u0027]`."
      ]
    },
    {
      "cell_type": "code",
      "metadata": {
        "id": "hu7fKJcaZyBj",
        "colab_type": "code",
        "colab": {
          "base_uri": "https://localhost:8080/",
          "height": 320
        },
        "outputId": "26fef845-e608-400a-e021-9e812c4fdf76",
        "pycharm": {}
      },
      "source": [
        "words \u003d [\u0027barrels\u0027, \u0027bpd\u0027, \u0027ecuador\u0027, \u0027energy\u0027, \u0027industry\u0027, \u0027kuwait\u0027, \u0027oil\u0027, \u0027output\u0027, \u0027petroleum\u0027, \u0027venezuela\u0027]\n",
        "plot_embeddings(M_reduced, word2Ind, words)"
      ],
      "execution_count": 12,
      "outputs": [
        {
          "output_type": "display_data",
          "data": {
            "image/png": "iVBORw0KGgoAAAANSUhEUgAAAlsAAAEvCAYAAAByngQ7AAAABHNCSVQICAgIfAhkiAAAAAlwSFlz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\nRK5CYII\u003d\n",
            "text/plain": [
              "\u003cFigure size 720x360 with 1 Axes\u003e"
            ]
          },
          "metadata": {
            "tags": []
          }
        }
      ]
    },
    {
      "cell_type": "markdown",
      "metadata": {
        "id": "twIftL2wZyBn",
        "colab_type": "text",
        "pycharm": {}
      },
      "source": [
        "What clusters together in 2-dimensional embedding space? What doesn\u0027t cluster together that you might think should have? How is the plot different from the one generated earlier from the co-occurrence matrix?"
      ]
    },
    {
      "cell_type": "markdown",
      "metadata": {
        "id": "iDo4HpyvZyBo",
        "colab_type": "text",
        "pycharm": {}
      },
      "source": "Now all the words except \"energy\" and \"industry\" don\u0027t cluster, because word2vec didn\u0027t train on our dataset. \"Energy\" and \"industry\" have the similar general meaning and context so they are close to each other."
    },
    {
      "cell_type": "markdown",
      "metadata": {
        "id": "QGASFf4JZyBp",
        "colab_type": "text",
        "pycharm": {}
      },
      "source": [
        "### Cosine Similarity\n",
        "Now that we have word vectors, we need a way to quantify the similarity between individual words, according to these vectors. One such metric is cosine-similarity. We will be using this to find words that are \"close\" and \"far\" from one another.\n",
        "\n",
        "We can think of n-dimensional vectors as points in n-dimensional space. If we take this perspective L1 and L2 Distances help quantify the amount of space \"we must travel\" to get between these two points. Another approach is to examine the angle between two vectors. From trigonometry we know that:\n",
        "\n",
        "\u003cimg src\u003d\"imgs/inner_product.png\" width\u003d20% style\u003d\"float: center;\"\u003e\u003c/img\u003e\n",
        "\n",
        "Instead of computing the actual angle, we can leave the similarity in terms of $similarity \u003d cos(\\Theta)$. Formally the [Cosine Similarity](https://en.wikipedia.org/wiki/Cosine_similarity) $s$ between two vectors $p$ and $q$ is defined as:\n",
        "\n",
        "$$s \u003d \\frac{p \\cdot q}{||p|| ||q||}, \\textrm{ where } s \\in [-1, 1] $$ "
      ]
    },
    {
      "cell_type": "markdown",
      "metadata": {
        "id": "yaSkx4frZyBq",
        "colab_type": "text",
        "pycharm": {}
      },
      "source": [
        "### Question 2.2: Polysemous Words (2 points) [code + written] \n",
        "Find a [polysemous](https://en.wikipedia.org/wiki/Polysemy) word (for example, \"leaves\" or \"scoop\") such that the top-10 most similar words (according to cosine similarity) contains related words from *both* meanings. For example, \"leaves\" has both \"vanishes\" and \"stalks\" in the top 10, and \"scoop\" has both \"handed_waffle_cone\" and \"lowdown\". You will probably need to try several polysemous words before you find one. Please state the polysemous word you discover and the multiple meanings that occur in the top 10. Why do you think many of the polysemous words you tried didn\u0027t work?\n",
        "\n",
        "**Note**: You should use the `wv_from_bin.most_similar(word)` function to get the top 10 similar words. This function ranks all other words in the vocabulary with respect to their cosine similarity to the given word. For further assistance please check the __[GenSim documentation](https://radimrehurek.com/gensim/models/keyedvectors.html#gensim.models.keyedvectors.FastTextKeyedVectors.most_similar)__."
      ]
    },
    {
      "cell_type": "code",
      "metadata": {
        "id": "3UZaLVaHZyBr",
        "colab_type": "code",
        "outputId": "89e97d1f-cc94-44eb-a541-744c43e31fed",
        "colab": {
          "base_uri": "https://localhost:8080/",
          "height": 237
        },
        "pycharm": {}
      },
      "source": [
        "# ------------------\n",
        "# Write your polysemous word exploration code here.\n",
        "\n",
        "wv_from_bin.most_similar(\"mouse\")\n",
        "\n",
        "# ------------------"
      ],
      "execution_count": 14,
      "outputs": [
        {
          "output_type": "stream",
          "text": [
            "/usr/local/lib/python3.6/dist-packages/gensim/matutils.py:737: FutureWarning: Conversion of the second argument of issubdtype from `int` to `np.signedinteger` is deprecated. In future, it will be treated as `np.int64 \u003d\u003d np.dtype(int).type`.\n",
            "  if np.issubdtype(vec.dtype, np.int):\n"
          ],
          "name": "stderr"
        },
        {
          "output_type": "execute_result",
          "data": {
            "text/plain": [
              "[(\u0027Logitech_MX_Revolution\u0027, 0.6175230741500854),\n",
              " (\u0027Razer_Mamba\u0027, 0.5994571447372437),\n",
              " (\u0027mice\u0027, 0.5896884799003601),\n",
              " (\u0027cordless_laser\u0027, 0.5652030110359192),\n",
              " (\u0027VX_Nano\u0027, 0.5619357824325562),\n",
              " (\u0027Logitech_MX###\u0027, 0.5604779720306396),\n",
              " (\u0027keyboard_arrow_keys\u0027, 0.5545550584793091),\n",
              " (\u0027Logitech_G9x\u0027, 0.5538491606712341),\n",
              " (\u0027NOTE_TO_READERS_Hovering\u0027, 0.5520266890525818),\n",
              " (\u0027Razer_Abyssus\u0027, 0.5489388108253479)]"
            ]
          },
          "metadata": {
            "tags": []
          },
          "execution_count": 14
        }
      ]
    },
    {
      "cell_type": "markdown",
      "metadata": {
        "id": "H6f3z1ENZyBu",
        "colab_type": "text",
        "pycharm": {}
      },
      "source": "Mouse\na small rodent characteristically having a pointed snout, small rounded ears, a body-length scaly tail and a high breeding rate.\n\na hand-held pointing device that detects two-dimensional motion relative to a surface, which moves the cursor in accordance with its move."
    },
    {
      "cell_type": "markdown",
      "metadata": {
        "id": "TOEqwj7AZyBv",
        "colab_type": "text",
        "pycharm": {}
      },
      "source": [
        "### Question 2.3: Synonyms \u0026 Antonyms (2 points) [code + written] \n",
        "\n",
        "When considering Cosine Similarity, it\u0027s often more convenient to think of Cosine Distance, which is simply 1 - Cosine Similarity.\n",
        "\n",
        "Find three words (w1,w2,w3) where w1 and w2 are synonyms and w1 and w3 are antonyms, but Cosine Distance(w1,w3) \u003c Cosine Distance(w1,w2). For example, w1\u003d\"happy\" is closer to w3\u003d\"sad\" than to w2\u003d\"cheerful\". \n",
        "\n",
        "Once you have found your example, please give a possible explanation for why this counter-intuitive result may have happened.\n",
        "\n",
        "You should use the the `wv_from_bin.distance(w1, w2)` function here in order to compute the cosine distance between two words. Please see the __[GenSim documentation](https://radimrehurek.com/gensim/models/keyedvectors.html#gensim.models.keyedvectors.FastTextKeyedVectors.distance)__ for further assistance."
      ]
    },
    {
      "cell_type": "code",
      "metadata": {
        "id": "rczjQ8znZyBv",
        "colab_type": "code",
        "colab": {
          "base_uri": "https://localhost:8080/",
          "height": 104
        },
        "outputId": "5b73c1f7-8f4e-4982-fd1c-179512ac52da",
        "pycharm": {}
      },
      "source": [
        "# ------------------\n",
        "# Write your synonym \u0026 antonym exploration code here.\n",
        "\n",
        "w1 \u003d \"black\"\n",
        "w2 \u003d \"dark\"\n",
        "w3 \u003d \"white\"\n",
        "w1_w2_dist \u003d wv_from_bin.distance(w1, w2)\n",
        "w1_w3_dist \u003d wv_from_bin.distance(w1, w3)\n",
        "\n",
        "print(\"Synonyms {}, {} have cosine distance: {}\".format(w1, w2, w1_w2_dist))\n",
        "print(\"Antonyms {}, {} have cosine distance: {}\".format(w1, w3, w1_w3_dist))\n",
        "\n",
        "# ------------------"
      ],
      "execution_count": 11,
      "outputs": [
        {
          "output_type": "stream",
          "text": [
            "Synonyms black, dark have cosine distance: 0.6012228727340698\n",
            "Antonyms black, white have cosine distance: 0.19077855348587036\n"
          ],
          "name": "stdout"
        },
        {
          "output_type": "stream",
          "text": [
            "/usr/local/lib/python3.6/dist-packages/gensim/matutils.py:737: FutureWarning: Conversion of the second argument of issubdtype from `int` to `np.signedinteger` is deprecated. In future, it will be treated as `np.int64 \u003d\u003d np.dtype(int).type`.\n",
            "  if np.issubdtype(vec.dtype, np.int):\n"
          ],
          "name": "stderr"
        }
      ]
    },
    {
      "cell_type": "markdown",
      "metadata": {
        "id": "8c4ro6gyZyBy",
        "colab_type": "text",
        "pycharm": {}
      },
      "source": "It is possible that \u0027black\u0027 and \u0027 dark \u0027are much closer to each other than\u0027 black \u0027and\u0027 white \u0027 by L1 distance in space, which does not mean that they are close by cosine simillarity. In addition, black and white are both colors, so they are often used in the same context, which is not true of \u0027black\u0027 and \u0027dark\u0027."
    },
    {
      "cell_type": "markdown",
      "metadata": {
        "id": "PuTSGDPOZyBz",
        "colab_type": "text",
        "pycharm": {}
      },
      "source": [
        "### Solving Analogies with Word Vectors\n",
        "Word2Vec vectors have been shown to *sometimes* exhibit the ability to solve analogies. \n",
        "\n",
        "As an example, for the analogy \"man : king :: woman : x\", what is x?\n",
        "\n",
        "In the cell below, we show you how to use word vectors to find x. The `most_similar` function finds words that are most similar to the words in the `positive` list and most dissimilar from the words in the `negative` list. The answer to the analogy will be the word ranked most similar (largest numerical value).\n",
        "\n",
        "**Note:** Further Documentation on the `most_similar` function can be found within the __[GenSim documentation](https://radimrehurek.com/gensim/models/keyedvectors.html#gensim.models.keyedvectors.FastTextKeyedVectors.most_similar)__."
      ]
    },
    {
      "cell_type": "code",
      "metadata": {
        "id": "BlJAVXi0ZyB0",
        "colab_type": "code",
        "colab": {
          "base_uri": "https://localhost:8080/",
          "height": 237
        },
        "outputId": "c398c2e3-2529-418d-a950-b83ffde20492",
        "pycharm": {}
      },
      "source": [
        "# Run this cell to answer the analogy -- man : king :: woman : x\n",
        "pprint.pprint(wv_from_bin.most_similar(positive\u003d[\u0027woman\u0027, \u0027king\u0027], negative\u003d[\u0027man\u0027]))"
      ],
      "execution_count": 12,
      "outputs": [
        {
          "output_type": "stream",
          "text": [
            "/usr/local/lib/python3.6/dist-packages/gensim/matutils.py:737: FutureWarning: Conversion of the second argument of issubdtype from `int` to `np.signedinteger` is deprecated. In future, it will be treated as `np.int64 \u003d\u003d np.dtype(int).type`.\n",
            "  if np.issubdtype(vec.dtype, np.int):\n"
          ],
          "name": "stderr"
        },
        {
          "output_type": "stream",
          "text": [
            "[(\u0027queen\u0027, 0.7118192911148071),\n",
            " (\u0027monarch\u0027, 0.6189674139022827),\n",
            " (\u0027princess\u0027, 0.5902431011199951),\n",
            " (\u0027crown_prince\u0027, 0.5499460697174072),\n",
            " (\u0027prince\u0027, 0.5377321243286133),\n",
            " (\u0027kings\u0027, 0.5236844420433044),\n",
            " (\u0027Queen_Consort\u0027, 0.5235945582389832),\n",
            " (\u0027queens\u0027, 0.518113374710083),\n",
            " (\u0027sultan\u0027, 0.5098593235015869),\n",
            " (\u0027monarchy\u0027, 0.5087411999702454)]\n"
          ],
          "name": "stdout"
        }
      ]
    },
    {
      "cell_type": "markdown",
      "metadata": {
        "id": "9kMAhE62ZyB3",
        "colab_type": "text",
        "pycharm": {}
      },
      "source": [
        "### Question 2.4: Finding Analogies [code + written]  (2 Points)\n",
        "Find an example of analogy that holds according to these vectors (i.e. the intended word is ranked top). In your solution please state the full analogy in the form x:y :: a:b. If you believe the analogy is complicated, explain why the analogy holds in one or two sentences.\n",
        "\n",
        "**Note**: You may have to try many analogies to find one that works!"
      ]
    },
    {
      "cell_type": "code",
      "metadata": {
        "id": "Om9DbWToZyB4",
        "colab_type": "code",
        "colab": {},
        "pycharm": {}
      },
      "source": [
        "# ------------------\n",
        "# Write your analogy exploration code here.\n",
        "\n",
        "pprint.pprint(wv_from_bin.most_similar(positive\u003d[\u0027girl\u0027, \u0027father\u0027], negative\u003d[\u0027mother\u0027]))\n",
        "\n",
        "# ------------------"
      ],
      "execution_count": 0,
      "outputs": []
    },
    {
      "cell_type": "markdown",
      "metadata": {
        "id": "6zjPW8s0ZyB6",
        "colab_type": "text",
        "pycharm": {}
      },
      "source": "Analogy mother:father :: girl : ? the correct analogy is boy, which is in the top of the answer"
    },
    {
      "cell_type": "markdown",
      "metadata": {
        "id": "Rs2llGvnZyB7",
        "colab_type": "text",
        "pycharm": {}
      },
      "source": [
        "### Question 2.5: Incorrect Analogy [code + written] (1 point)\n",
        "Find an example of analogy that does *not* hold according to these vectors. In your solution, state the intended analogy in the form x:y :: a:b, and state the (incorrect) value of b according to the word vectors."
      ]
    },
    {
      "cell_type": "code",
      "metadata": {
        "id": "nCJEMCXtZyB8",
        "colab_type": "code",
        "colab": {},
        "pycharm": {}
      },
      "source": [
        "# ------------------\n",
        "# Write your incorrect analogy exploration code here.\n",
        "\n",
        "pprint.pprint(wv_from_bin.most_similar(positive\u003d[\u0027neuron\u0027, \u0027graph\u0027], negative\u003d[\u0027network\u0027]))\n",
        "\n",
        "# ------------------"
      ],
      "execution_count": 0,
      "outputs": []
    },
    {
      "cell_type": "markdown",
      "metadata": {
        "id": "vjzYv6LiZyCA",
        "colab_type": "text",
        "pycharm": {}
      },
      "source": "network : neuron :: graph : vertice #incorrect are neurons and neurones, the model just giving the close words to neuron."
    },
    {
      "cell_type": "markdown",
      "metadata": {
        "id": "D6BpNM-eZyCB",
        "colab_type": "text",
        "pycharm": {}
      },
      "source": [
        "### Question 2.6: Guided Analysis of Bias in Word Vectors [written] (1 point)\n",
        "\n",
        "It\u0027s important to be cognizant of the biases (gender, race, sexual orientation etc.) implicit to our word embeddings.\n",
        "\n",
        "Run the cell below, to examine (a) which terms are most similar to \"woman\" and \"boss\" and most dissimilar to \"man\", and (b) which terms are most similar to \"man\" and \"boss\" and most dissimilar to \"woman\". What do you find in the top 10?"
      ]
    },
    {
      "cell_type": "code",
      "metadata": {
        "id": "8jED85n3ZyCC",
        "colab_type": "code",
        "colab": {},
        "pycharm": {}
      },
      "source": [
        "# Run this cell\n",
        "# Here `positive` indicates the list of words to be similar to and `negative` indicates the list of words to be\n",
        "# most dissimilar from.\n",
        "pprint.pprint(wv_from_bin.most_similar(positive\u003d[\u0027woman\u0027, \u0027boss\u0027], negative\u003d[\u0027man\u0027]))\n",
        "print()\n",
        "pprint.pprint(wv_from_bin.most_similar(positive\u003d[\u0027man\u0027, \u0027boss\u0027], negative\u003d[\u0027woman\u0027]))"
      ],
      "execution_count": 0,
      "outputs": []
    },
    {
      "cell_type": "markdown",
      "metadata": {
        "id": "US9txZ0lZyCF",
        "colab_type": "text",
        "pycharm": {}
      },
      "source": "We see that for\u0027 woman \u0027and\u0027 boss\u0027, the words synonymous with the Manager were close. In the case of \u0027man\u0027 \u0027boss\u0027, most of the words that are similar in meaning are men\u0027s football teams that have the word \u0027boss\u0027 in their name, perhaps this can be interpreted as \u0027bias\u0027"
    },
    {
      "cell_type": "markdown",
      "metadata": {
        "id": "-ourLBP2ZyCG",
        "colab_type": "text",
        "pycharm": {}
      },
      "source": [
        "### Question 2.7: Independent Analysis of Bias in Word Vectors [code + written]  (2 points)\n",
        "\n",
        "Use the `most_similar` function to find another case where some bias is exhibited by the vectors. Please briefly explain the example of bias that you discover."
      ]
    },
    {
      "cell_type": "code",
      "metadata": {
        "id": "EzekjdIiZyCG",
        "colab_type": "code",
        "colab": {
          "base_uri": "https://localhost:8080/",
          "height": 421
        },
        "outputId": "33934206-3d56-4aaa-f0db-cb418c9f7af5",
        "pycharm": {}
      },
      "source": [
        "# ------------------\n",
        "# Write your bias exploration code here.\n",
        "\n",
        "pprint.pprint(wv_from_bin.most_similar(positive\u003d[\u0027black\u0027, \u0027business\u0027], negative\u003d[\u0027white\u0027]))\n",
        "print()\n",
        "pprint.pprint(wv_from_bin.most_similar(positive\u003d[\u0027white\u0027, \u0027business\u0027], negative\u003d[\u0027black\u0027]))\n",
        "\n",
        "# ------------------"
      ],
      "execution_count": 13,
      "outputs": [
        {
          "output_type": "stream",
          "text": [
            "/usr/local/lib/python3.6/dist-packages/gensim/matutils.py:737: FutureWarning: Conversion of the second argument of issubdtype from `int` to `np.signedinteger` is deprecated. In future, it will be treated as `np.int64 \u003d\u003d np.dtype(int).type`.\n",
            "  if np.issubdtype(vec.dtype, np.int):\n"
          ],
          "name": "stderr"
        },
        {
          "output_type": "stream",
          "text": [
            "[(\u0027businesses\u0027, 0.5511630177497864),\n",
            " (\u0027busines\u0027, 0.52528977394104),\n",
            " (\u0027busi_ness\u0027, 0.5140690803527832),\n",
            " (\u0027PETER_PASSI_covers\u0027, 0.49459588527679443),\n",
            " (\u0027Sopris_supplemental_solutions\u0027, 0.4740722179412842),\n",
            " (\u0027businesss\u0027, 0.4612029790878296),\n",
            " (\u0027entrepreneurial\u0027, 0.4533778429031372),\n",
            " (\u0027Business\u0027, 0.44820332527160645),\n",
            " (\u0027profitable\u0027, 0.4410717487335205),\n",
            " (\u0027busienss\u0027, 0.4404950737953186)]\n",
            "\n",
            "[(\u0027businesses\u0027, 0.575883150100708),\n",
            " (\u0027busines\u0027, 0.509324848651886),\n",
            " (\u0027Business\u0027, 0.4818556308746338),\n",
            " (\u0027businesss\u0027, 0.46462294459342957),\n",
            " (\u0027customer\u0027, 0.45933493971824646),\n",
            " (\u0027industry\u0027, 0.451619416475296),\n",
            " (\u0027PETER_PASSI_covers\u0027, 0.44641736149787903),\n",
            " (\u0027company\u0027, 0.446374773979187),\n",
            " (\u0027companies\u0027, 0.445217490196228),\n",
            " (\u0027busi_ness\u0027, 0.4410821795463562)]\n"
          ],
          "name": "stdout"
        }
      ]
    },
    {
      "cell_type": "markdown",
      "metadata": {
        "id": "RWO0TceHZyCJ",
        "colab_type": "text",
        "pycharm": {}
      },
      "source": "We see that in the case of \u0027black\u0027 and \u0027business\u0027 in the top of the results there is the word \u0027profitable\u0027, and in the case of \u0027white\u0027, \u0027business\u0027 all words are synonyms of \u0027business\u0027 and we see an even more General concept - \u0027industry\u0027. This can be perceived as bias, and racism"
    },
    {
      "cell_type": "markdown",
      "metadata": {
        "id": "jRt7_EuvZyCK",
        "colab_type": "text",
        "pycharm": {}
      },
      "source": [
        "### Question 2.8: Thinking About Bias [written] (1 point)\n",
        "\n",
        "What might be the cause of these biases in the word vectors?"
      ]
    },
    {
      "cell_type": "markdown",
      "metadata": {
        "id": "N9rlZL28ZyCL",
        "colab_type": "text",
        "pycharm": {}
      },
      "source": "Word2vec does not know about semantic relationships between words, but only provides information about how often they occur in the same context. Therefore, it can easily, unintentionally get a bias."
    }
  ]
}