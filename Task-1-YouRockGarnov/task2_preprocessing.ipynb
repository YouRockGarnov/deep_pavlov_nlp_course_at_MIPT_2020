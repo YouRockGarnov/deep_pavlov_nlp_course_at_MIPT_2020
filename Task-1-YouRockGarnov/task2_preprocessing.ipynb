{
  "nbformat": 4,
  "nbformat_minor": 0,
  "metadata": {
    "kernelspec": {
      "name": "python3",
      "display_name": "Python 3"
    },
    "language_info": {
      "codemirror_mode": {
        "name": "ipython",
        "version": 3
      },
      "file_extension": ".py",
      "mimetype": "text/x-python",
      "name": "python",
      "nbconvert_exporter": "python",
      "pygments_lexer": "ipython3",
      "version": "3.6.10"
    },
    "colab": {
      "name": "task2_preprocessing.ipynb",
      "provenance": []
    },
    "accelerator": "GPU"
  },
  "cells": [
    {
      "cell_type": "markdown",
      "metadata": {
        "pycharm": {},
        "id": "15XV_EoMUV5Y",
        "colab_type": "text"
      },
      "source": [
        "# Assignment 1.2: Word2vec preprocessing (20 points)"
      ]
    },
    {
      "cell_type": "markdown",
      "metadata": {
        "pycharm": {},
        "id": "21QzzStNUV5b",
        "colab_type": "text"
      },
      "source": [
        "Preprocessing is not the most exciting part of NLP, but it is still one of the most important ones. Your task is to preprocess raw text (you can use your own, or [this one](http://mattmahoney.net/dc/text8.zip). For this task text preprocessing mostly consists of:\n",
        "\n",
        "1. cleaning (mostly, if your dataset is from social media or parsed from the internet)\n",
        "1. tokenization\n",
        "1. building the vocabulary and choosing its size. Use only high-frequency words, change all other words to UNK or handle it in your own manner. You can use `collections.Counter` for that.\n",
        "1. assigning each token a number (numericalization). In other words, make word2index и index2word objects.\n",
        "1. data structuring and batching - make X and y matrices generator for word2vec (explained in more details below)\n",
        "\n",
        "**ATTN!:** If you use your own data, please, attach a download link. \n",
        "\n",
        "Your goal is to make **Batcher** class which returns two numpy tensors with word indices. It should be possible to use one for word2vec training. You can implement batcher for Skip-Gram or CBOW architecture, the picture below can be helpful to remember the difference.\n",
        "\n",
        "![text](https://raw.githubusercontent.com/deepmipt/deep-nlp-seminars/651804899d05b96fc72b9474404fab330365ca09/seminar_02/pics/architecture.png)\n",
        "\n",
        "There are several ways to do it right. Shapes could be `x_batch.shape = (batch_size, 2*window_size)`, `y_batch.shape = (batch_size,)` for CBOW or `(batch_size,)`, `(batch_size, 2*window_size)` for Skip-Gram. You should **not** do negative sampling here.\n",
        "\n",
        "They should be adequately parametrized: CBOW(window_size, ...), SkipGram(window_size, ...). You should implement only one batcher in this task; and it's up to you which one to chose.\n",
        "\n",
        "Useful links:\n",
        "1. [Word2Vec Tutorial - The Skip-Gram Model](http://mccormickml.com/2016/04/19/word2vec-tutorial-the-skip-gram-model/)\n",
        "1. [Efficient Estimation of Word Representations in Vector Space](https://arxiv.org/pdf/1301.3781.pdf)\n",
        "1. [Distributed Representations of Words and Phrases and their Compositionality](http://papers.nips.cc/paper/5021-distributed-representations-of-words-and-phrases-and-their-compositionality.pdf)\n",
        "\n",
        "You can write the code in this notebook, or in a separate file. It can be reused for the next task. The result of your work should represent that your batch has a proper structure (right shapes) and content (words should be from one context, not some random indices). To show that, translate indices back to words and print them to show something like this:\n",
        "\n",
        "```\n",
        "text = ['first', 'used', 'against', 'early', 'working', 'class', 'radicals', 'including']\n",
        "\n",
        "window_size = 2\n",
        "\n",
        "# CBOW:\n",
        "indices_to_words(x_batch) = \\\n",
        "        [['first', 'used', 'early', 'working'],\n",
        "        ['used', 'against', 'working', 'class'],\n",
        "        ['against', 'early', 'class', 'radicals'],\n",
        "        ['early', 'working', 'radicals', 'including']]\n",
        "\n",
        "indices_to_words(labels_batch) = ['against', 'early', 'working', 'class']\n",
        "```\n"
      ]
    },
    {
      "cell_type": "code",
      "metadata": {
        "pycharm": {
          "metadata": false,
          "name": "#%%\n"
        },
        "id": "CzvD13HwUV5d",
        "colab_type": "code",
        "colab": {}
      },
      "source": [
        "import numpy as np\n",
        "import random\n",
        "from collections import Counter"
      ],
      "execution_count": 0,
      "outputs": []
    },
    {
      "cell_type": "code",
      "metadata": {
        "pycharm": {
          "metadata": false,
          "name": "#%%\n"
        },
        "id": "TjUV5rB1UV5l",
        "colab_type": "code",
        "colab": {
          "base_uri": "https://localhost:8080/",
          "height": 251
        },
        "outputId": "9bcb0860-4757-47bb-8d80-02e3f1b7bc15"
      },
      "source": [
        "!wget http://mattmahoney.net/dc/text8.zip\n",
        "\n",
        "!ls\n",
        "!unzip text8.zip"
      ],
      "execution_count": 2,
      "outputs": [
        {
          "output_type": "stream",
          "text": [
            "--2020-02-26 21:05:37--  http://mattmahoney.net/dc/text8.zip\n",
            "Resolving mattmahoney.net (mattmahoney.net)... 67.195.197.75\n",
            "Connecting to mattmahoney.net (mattmahoney.net)|67.195.197.75|:80... connected.\n",
            "HTTP request sent, awaiting response... 200 OK\n",
            "Length: 31344016 (30M) [application/zip]\n",
            "Saving to: ‘text8.zip’\n",
            "\n",
            "text8.zip           100%[===================>]  29.89M   284KB/s    in 1m 53s  \n",
            "\n",
            "2020-02-26 21:07:31 (271 KB/s) - ‘text8.zip’ saved [31344016/31344016]\n",
            "\n",
            "sample_data  text8.zip\n",
            "Archive:  text8.zip\n",
            "  inflating: text8                   \n"
          ],
          "name": "stdout"
        }
      ]
    },
    {
      "cell_type": "code",
      "metadata": {
        "pycharm": {
          "metadata": false,
          "name": "#%%\n"
        },
        "id": "TZpIEwfnUV5q",
        "colab_type": "code",
        "colab": {
          "base_uri": "https://localhost:8080/",
          "height": 33
        },
        "outputId": "1bbe3a20-d7f5-4f40-e177-a78f4974f0af"
      },
      "source": [
        "filename = 'text8' #file with the raw text\n",
        "text = []\n",
        "with open('text8', mode='r') as file:\n",
        "    line = file.readline()\n",
        "    while line:\n",
        "        text += line.lower().split(' ')\n",
        "        line = file.readline()\n",
        "        if len(text) > 100000:\n",
        "            print(len(text))\n",
        "            break"
      ],
      "execution_count": 3,
      "outputs": [
        {
          "output_type": "stream",
          "text": [
            "17005208\n"
          ],
          "name": "stdout"
        }
      ]
    },
    {
      "cell_type": "code",
      "metadata": {
        "pycharm": {
          "metadata": false,
          "name": "#%%\n"
        },
        "id": "Wo1TJGv7UV5x",
        "colab_type": "code",
        "colab": {
          "base_uri": "https://localhost:8080/",
          "height": 50
        },
        "outputId": "56598646-a76b-432f-d223-bffca93a99ff"
      },
      "source": [
        "print(len(text))\n",
        "train_text = text[:1000]\n",
        "print(len(train_text))"
      ],
      "execution_count": 4,
      "outputs": [
        {
          "output_type": "stream",
          "text": [
            "17005208\n",
            "1000\n"
          ],
          "name": "stdout"
        }
      ]
    },
    {
      "cell_type": "code",
      "metadata": {
        "pycharm": {
          "metadata": false,
          "name": "#%%\n"
        },
        "id": "MVrhoccbUV50",
        "colab_type": "code",
        "colab": {}
      },
      "source": [
        "\"\"\"Note that in our case, the text8 model already has bare text, that we only have to care about lowercase and frequency\"\"\"\n",
        "unknown_token = \"UNK\""
      ],
      "execution_count": 0,
      "outputs": []
    },
    {
      "cell_type": "code",
      "metadata": {
        "pycharm": {
          "metadata": false,
          "name": "#%%\n"
        },
        "id": "0z7tYDWaUV55",
        "colab_type": "code",
        "colab": {}
      },
      "source": [
        "\"\"\"batcher class for the model\"\"\"\n",
        "class SkipGramBatcher:\n",
        "    def __init__(self, window_size=5, least_freq=3):\n",
        "        self.least_freq = least_freq\n",
        "        self.text = None\n",
        "        self.vocab = None\n",
        "        self.vocab_size = None\n",
        "        self.word2index = None\n",
        "        self.index2word = None\n",
        "        self.window_size = window_size\n",
        "        self.current_index = 0\n",
        "        self.current_diff = -window_size\n",
        "        self.total_size = 0\n",
        "    \n",
        "    def preprocess(self, text):\n",
        "        \"\"\"replace words with frequency < least_freq with unknown_token\n",
        "        and save the text\n",
        "        \"\"\"\n",
        "        counter = Counter(text)\n",
        "        def get_token(word):\n",
        "            if counter[word] < self.least_freq:\n",
        "                return unknown_token\n",
        "            else:\n",
        "                return word.lower()\n",
        "        self.text = [get_token(word) for word in text]\n",
        "    \n",
        "    def fit_text(self, text):\n",
        "        \"\"\"init text, vocab, word2ind, ind2word\n",
        "        \"\"\"\n",
        "        self.preprocess(text)\n",
        "        self.vocab = np.unique(self.text)\n",
        "        self.vocab_size = self.vocab.shape[0]\n",
        "        self.word2index = dict(zip(self.vocab, range(self.vocab.shape[0])))\n",
        "        self.index2word = dict(zip(range(self.vocab.shape[0]), self.vocab))\n",
        "        self.total_size = (len(self.text) - 3 * self.window_size) * self.window_size * 2\n",
        "        \n",
        "    def most_frequent(self, num=25):\n",
        "        \"\"\"get most frequent words from the text\"\"\"\n",
        "        counter = Counter(self.text)\n",
        "        return counter.most_common(num)\n",
        "        \n",
        "    def least_frequent(self, num=25):\n",
        "        \"\"\"get least frequent words from the text\"\"\"\n",
        "        counter = Counter(self.text)\n",
        "        return counter.most_common()[:-num - 1:-1]\n",
        "        \n",
        "    def indices_to_words(self, x_batch):\n",
        "        \"\"\"return array of words out of array of indices\"\"\"\n",
        "        return np.array([self.index2word[index] for index in x_batch])\n",
        "    \n",
        "    def words_to_indices(self, words):\n",
        "        \"\"\"return array of indices out of array of words\"\"\"\n",
        "        return np.array([self.word2index[word] for word in words])\n",
        "    \n",
        "    def _get_next_index_and_diff(self, current_index, current_diff):\n",
        "        if (current_diff == self.window_size):\n",
        "            current_diff = -self.window_size\n",
        "            current_index += 1\n",
        "            current_index %= len(self.text)\n",
        "        else:\n",
        "            if current_diff == -1:\n",
        "                current_diff = 1\n",
        "            else:\n",
        "                current_diff += 1\n",
        "        return current_index, current_diff\n",
        "\n",
        "    \n",
        "    def get_batch(self, batch_size=100):\n",
        "        \"\"\"return batch of indices for x and for labels consequently\"\"\"\n",
        "        x_batch = []\n",
        "        labels_batch = []\n",
        "        while len(x_batch) < batch_size:\n",
        "            label_index_in_text = self.current_index + self.current_diff \n",
        "            if (label_index_in_text < 0 or label_index_in_text >= len(self.text)):\n",
        "                index, diff = self._get_next_index_and_diff(self.current_index, self.current_diff)\n",
        "                self.current_index = index\n",
        "                self.current_diff = diff\n",
        "                continue\n",
        "                \n",
        "            word = self.text[self.current_index]\n",
        "            word_index = self.word2index[word]\n",
        "            label = self.text[self.current_index + self.current_diff]\n",
        "            label_index = self.word2index[label]\n",
        "            \n",
        "            x_batch.append(word_index)\n",
        "            labels_batch.append(label_index)\n",
        "            \n",
        "            index, diff = self._get_next_index_and_diff(self.current_index, self.current_diff)\n",
        "            self.current_index = index\n",
        "            self.current_diff = diff\n",
        "            \n",
        "        assert len(x_batch) == batch_size\n",
        "        assert len(labels_batch) == batch_size\n",
        "        \n",
        "        x_batch = np.array(x_batch)\n",
        "        labels_batch = np.array(labels_batch)\n",
        "        \n",
        "        permut = np.random.permutation(range(batch_size))\n",
        "        x_batch = x_batch[permut]\n",
        "        labels_batch = labels_batch[permut]\n",
        "        return x_batch, labels_batch\n",
        "      \n",
        "    def get_random_batch(self, batch_size=100):\n",
        "        \"\"\"return batch of indices for x and for labels randomly\"\"\"\n",
        "        x_batch = []\n",
        "        labels_batch = []\n",
        "        \n",
        "        indices = np.random.choice(np.arange(self.window_size + 100, len(self.text) - self.window_size - 100), batch_size, replace=False)\n",
        "        words = itemgetter(*indices.tolist())(self.text)\n",
        "        x_batch = [self.word2index[word] for word in words]\n",
        "        \n",
        "        diffs = np.random.randint(-self.window_size, +self.window_size, size=batch_size)\n",
        "        label_indices = indices + diffs\n",
        "        labels = itemgetter(*label_indices.tolist())(self.text)\n",
        "        labels_batch = [self.word2index[label] for label in labels]\n",
        "        \n",
        "        x_batch = np.array(x_batch)\n",
        "        labels_batch = np.array(labels_batch)\n",
        "        return x_batch, labels_batch\n",
        "        \n",
        "    def batch_generator(self, batch_size=100):\n",
        "        \"\"\"generator for batch\"\"\"\n",
        "        while True:\n",
        "            x_batch, labels_batch = self.get_batch(batch_size)\n",
        "            yield x_batch, labels_batch"
      ],
      "execution_count": 0,
      "outputs": []
    },
    {
      "cell_type": "code",
      "metadata": {
        "pycharm": {
          "metadata": false,
          "name": "#%%\n"
        },
        "id": "LAlLnDbtUV58",
        "colab_type": "code",
        "colab": {}
      },
      "source": [
        "\"\"\"lets visualize the process\"\"\"\n",
        "skpgram_batcher = SkipGramBatcher(window_size=2, least_freq=2)\n",
        "skpgram_batcher.fit_text(train_text)"
      ],
      "execution_count": 0,
      "outputs": []
    },
    {
      "cell_type": "code",
      "metadata": {
        "pycharm": {
          "metadata": false,
          "name": "#%%\n"
        },
        "id": "R-s783-BUV6A",
        "colab_type": "code",
        "colab": {
          "base_uri": "https://localhost:8080/",
          "height": 50
        },
        "outputId": "b06aee6b-297c-4aa7-9e04-5cbbc9745db8"
      },
      "source": [
        "index = random.randint(0, skpgram_batcher.vocab_size - 1)\n",
        "word = skpgram_batcher.index2word[index]\n",
        "print(skpgram_batcher.index2word[index])\n",
        "print(skpgram_batcher.index2word[skpgram_batcher.word2index[word]])"
      ],
      "execution_count": 8,
      "outputs": [
        {
          "output_type": "stream",
          "text": [
            "three\n",
            "three\n"
          ],
          "name": "stdout"
        }
      ]
    },
    {
      "cell_type": "code",
      "metadata": {
        "pycharm": {
          "metadata": false,
          "name": "#%%\n"
        },
        "id": "ACycwxSSUV6D",
        "colab_type": "code",
        "colab": {
          "base_uri": "https://localhost:8080/",
          "height": 137
        },
        "outputId": "047b003b-e5a9-4a95-d101-ba7cc6728055"
      },
      "source": [
        "print('VOCAB SHAPE: ', skpgram_batcher.vocab.shape)\n",
        "print(skpgram_batcher.vocab[:25])\n",
        "print('MOST FREQUENT WORDS: ', skpgram_batcher.most_frequent())"
      ],
      "execution_count": 9,
      "outputs": [
        {
          "output_type": "stream",
          "text": [
            "VOCAB SHAPE:  (152,)\n",
            "['UNK' 'a' 'about' 'abuse' 'accepted' 'access' 'advocate' 'against' 'all'\n",
            " 'also' 'although' 'am' 'american' 'an' 'anabaptists' 'anarchism'\n",
            " 'anarchist' 'anarchists' 'anarchy' 'and' 'are' 'as' 'at' 'authoritarian'\n",
            " 'be']\n",
            "MOST FREQUENT WORDS:  [('UNK', 291), ('the', 58), ('of', 41), ('in', 30), ('and', 27), ('to', 18), ('as', 17), ('that', 15), ('is', 14), ('a', 12), ('anarchist', 10), ('property', 10), ('anarchism', 9), ('society', 9), ('are', 9), ('his', 9), ('it', 8), ('what', 8), ('an', 8), ('proudhon', 8), ('anarchists', 7), ('this', 7), ('he', 7), ('be', 6), ('was', 6)]\n"
          ],
          "name": "stdout"
        }
      ]
    },
    {
      "cell_type": "code",
      "metadata": {
        "pycharm": {
          "metadata": false,
          "name": "#%%\n"
        },
        "id": "64Q0kRLRUV6I",
        "colab_type": "code",
        "colab": {}
      },
      "source": [
        "x_batch, labels_batch = skpgram_batcher.get_batch(batch_size=50)"
      ],
      "execution_count": 0,
      "outputs": []
    },
    {
      "cell_type": "code",
      "metadata": {
        "pycharm": {
          "metadata": false,
          "name": "#%%\n"
        },
        "id": "156MruxPUV6L",
        "colab_type": "code",
        "colab": {
          "base_uri": "https://localhost:8080/",
          "height": 67
        },
        "outputId": "c9985e5b-1a62-429d-9c4f-f46a4e5db2a0"
      },
      "source": [
        "print(x_batch.shape)\n",
        "print(labels_batch.shape)\n",
        "print(type(x_batch), type(labels_batch))"
      ],
      "execution_count": 11,
      "outputs": [
        {
          "output_type": "stream",
          "text": [
            "(50,)\n",
            "(50,)\n",
            "<class 'numpy.ndarray'> <class 'numpy.ndarray'>\n"
          ],
          "name": "stdout"
        }
      ]
    },
    {
      "cell_type": "code",
      "metadata": {
        "pycharm": {
          "metadata": false,
          "name": "#%%\n"
        },
        "id": "Z65kzAnbUV6Q",
        "colab_type": "code",
        "colab": {
          "base_uri": "https://localhost:8080/",
          "height": 70
        },
        "outputId": "5467fb1c-82e6-4f29-f29e-825344453d97"
      },
      "source": [
        "print('TEXT SHAPE: ', len(skpgram_batcher.text))\n",
        "print(skpgram_batcher.text[:25])"
      ],
      "execution_count": 12,
      "outputs": [
        {
          "output_type": "stream",
          "text": [
            "TEXT SHAPE:  1000\n",
            "['UNK', 'anarchism', 'UNK', 'as', 'a', 'term', 'of', 'abuse', 'first', 'used', 'against', 'early', 'working', 'class', 'UNK', 'including', 'the', 'diggers', 'of', 'the', 'english', 'revolution', 'and', 'the', 'UNK']\n"
          ],
          "name": "stdout"
        }
      ]
    },
    {
      "cell_type": "code",
      "metadata": {
        "pycharm": {
          "metadata": false,
          "name": "#%%\n"
        },
        "id": "ttgVFuEAUV6T",
        "colab_type": "code",
        "colab": {
          "base_uri": "https://localhost:8080/",
          "height": 217
        },
        "outputId": "6b8b5a04-bbfb-48ff-bde8-61022dd75191"
      },
      "source": [
        "print(skpgram_batcher.indices_to_words(x_batch))\n",
        "print(skpgram_batcher.indices_to_words(labels_batch))"
      ],
      "execution_count": 13,
      "outputs": [
        {
          "output_type": "stream",
          "text": [
            "['used' 'first' 'a' 'anarchism' 'first' 'class' 'against' 'working' 'of'\n",
            " 'of' 'abuse' 'a' 'abuse' 'UNK' 'anarchism' 'as' 'working' 'as' 'a'\n",
            " 'early' 'early' 'used' 'first' 'abuse' 'first' 'early' 'early' 'used'\n",
            " 'as' 'against' 'UNK' 'UNK' 'anarchism' 'of' 'term' 'term' 'UNK' 'working'\n",
            " 'as' 'term' 'working' 'UNK' 'used' 'a' 'against' 'UNK' 'term' 'against'\n",
            " 'abuse' 'of']\n",
            "['early' 'abuse' 'as' 'UNK' 'against' 'early' 'used' 'class' 'a' 'abuse'\n",
            " 'first' 'term' 'term' 'as' 'UNK' 'anarchism' 'against' 'a' 'UNK'\n",
            " 'against' 'working' 'first' 'of' 'used' 'used' 'used' 'class' 'abuse'\n",
            " 'term' 'working' 'UNK' 'anarchism' 'as' 'first' 'as' 'of' 'a' 'early'\n",
            " 'UNK' 'a' 'UNK' 'UNK' 'against' 'of' 'early' 'anarchism' 'abuse' 'first'\n",
            " 'of' 'term']\n"
          ],
          "name": "stdout"
        }
      ]
    }
  ]
}